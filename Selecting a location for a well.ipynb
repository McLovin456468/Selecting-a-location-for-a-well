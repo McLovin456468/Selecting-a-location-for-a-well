{
 "cells": [
  {
   "cell_type": "markdown",
   "metadata": {},
   "source": [
    "# Выбор локации для скважины"
   ]
  },
  {
   "cell_type": "markdown",
   "metadata": {},
   "source": [
    "\n",
    "Вам предоставлены пробы нефти в трёх регионах: в каждом 10 000 месторождений, где измерили качество нефти и объём её запасов. Постройте модель машинного обучения, которая поможет определить регион, где добыча принесёт наибольшую прибыль. Проанализируйте возможную прибыль и риски техникой *Bootstrap.*\n",
    "\n",
    "Шаги для выбора локации:\n",
    "\n",
    "- В избранном регионе ищут месторождения, для каждого определяют значения признаков;\n",
    "- Строят модель и оценивают объём запасов;\n",
    "- Выбирают месторождения с самым высокими оценками значений. Количество месторождений зависит от бюджета компании и стоимости разработки одной скважины;\n",
    "- Прибыль равна суммарной прибыли отобранных месторождений.\n",
    "\n",
    "Описание данных\n",
    "\n",
    "Данные геологоразведки трёх регионов находятся в файлах: \n",
    "\n",
    "- /datasets/geo_data_0.csv.\n",
    "- /datasets/geo_data_1.csv.\n",
    "- /datasets/geo_data_2.csv.\n",
    "\n",
    "где, id — уникальный идентификатор скважины; f0, f1, f2 — три признака точек (неважно, что они означают, но сами признаки значимы); product — объём запасов в скважине (тыс. баррелей).\n"
   ]
  },
  {
   "cell_type": "code",
   "execution_count": 1,
   "metadata": {},
   "outputs": [],
   "source": [
    "!pip install phik -q"
   ]
  },
  {
   "cell_type": "code",
   "execution_count": 2,
   "metadata": {},
   "outputs": [],
   "source": [
    "!pip install shap -q"
   ]
  },
  {
   "cell_type": "code",
   "execution_count": 3,
   "metadata": {},
   "outputs": [],
   "source": [
    "!pip install --upgrade scikit-learn==1.2 -q"
   ]
  },
  {
   "cell_type": "code",
   "execution_count": 4,
   "metadata": {},
   "outputs": [],
   "source": [
    "import pandas as pd\n",
    "import numpy as np\n",
    "from tqdm import tqdm\n",
    "import itertools\n",
    "import seaborn as sns\n",
    "import matplotlib.pyplot as plt\n",
    "import shap\n",
    "import phik\n",
    "\n",
    "from numpy.random import RandomState\n",
    "\n",
    "from phik import phik_matrix\n",
    "from phik.report import plot_correlation_matrix\n",
    "from plotly.subplots import make_subplots\n",
    "\n",
    "from scipy import stats as st\n",
    "from scipy.stats import binom, poisson\n",
    "from scipy.stats import gaussian_kde\n",
    "from scipy.spatial.distance import cosine\n",
    "from scipy.spatial.distance import euclidean\n",
    "\n",
    "from sklearn.linear_model import LinearRegression\n",
    "# from sklearn.linear_model import LogisticRegression\n",
    "\n",
    "# from sklearn.svm import SVC\n",
    "# from sklearn.tree import DecisionTreeClassifier, DecisionTreeRegressor\n",
    "# from sklearn.neighbors import KNeighborsClassifier\n",
    "from sklearn.pipeline import Pipeline\n",
    "\n",
    "from sklearn.preprocessing import OneHotEncoder, OrdinalEncoder, StandardScaler, MinMaxScaler, LabelEncoder, RobustScaler\n",
    "from sklearn.model_selection import GridSearchCV, RandomizedSearchCV, train_test_split, cross_val_score\n",
    "from sklearn.compose import ColumnTransformer\n",
    "from sklearn.impute import SimpleImputer\n",
    "\n",
    "# from sklearn.metrics import mean_absolute_error\n",
    "from sklearn.metrics import mean_squared_error\n",
    "# from sklearn.metrics import r2_score, make_scorer\n",
    "# from sklearn.metrics import recall_score, precision_score\n",
    "# from sklearn.metrics import confusion_matrix\n",
    "# from sklearn.metrics import accuracy_score, roc_auc_score, roc_curve, auc, confusion_matrix\n",
    "\n",
    "from sklearn.datasets import  make_classification\n",
    "from sklearn.inspection import permutation_importance"
   ]
  },
  {
   "cell_type": "markdown",
   "metadata": {},
   "source": [
    "## Загрузка и подготовка данных"
   ]
  },
  {
   "cell_type": "markdown",
   "metadata": {},
   "source": [
    "###  Загрузка и предобработка данных"
   ]
  },
  {
   "cell_type": "code",
   "execution_count": 5,
   "metadata": {},
   "outputs": [],
   "source": [
    "geo_data_0 = pd.read_csv('/datasets/geo_data_0.csv')\n",
    "geo_data_1 = pd.read_csv('/datasets/geo_data_1.csv')\n",
    "geo_data_2 = pd.read_csv('/datasets/geo_data_2.csv')"
   ]
  },
  {
   "cell_type": "code",
   "execution_count": 6,
   "metadata": {},
   "outputs": [],
   "source": [
    "def check_data(name):\n",
    "    print('общая информация ***************************************************************************************************')\n",
    "    name.info()\n",
    "    print('первые 5 строк *****************************************************************************************************')\n",
    "    display(name.head())\n",
    "    print('название столбцов **************************************************************************************************')\n",
    "    display(name.columns)\n",
    "    print('количество пропусков ***********************************************************************************************')\n",
    "    print(name.isnull().sum())\n",
    "    print('количество явных дубликатов ********************************************************************************************')\n",
    "    print(name.duplicated().sum())\n",
    "    display(name.describe().T)"
   ]
  },
  {
   "cell_type": "code",
   "execution_count": 7,
   "metadata": {},
   "outputs": [
    {
     "name": "stdout",
     "output_type": "stream",
     "text": [
      "общая информация ***************************************************************************************************\n",
      "<class 'pandas.core.frame.DataFrame'>\n",
      "RangeIndex: 100000 entries, 0 to 99999\n",
      "Data columns (total 5 columns):\n",
      " #   Column   Non-Null Count   Dtype  \n",
      "---  ------   --------------   -----  \n",
      " 0   id       100000 non-null  object \n",
      " 1   f0       100000 non-null  float64\n",
      " 2   f1       100000 non-null  float64\n",
      " 3   f2       100000 non-null  float64\n",
      " 4   product  100000 non-null  float64\n",
      "dtypes: float64(4), object(1)\n",
      "memory usage: 3.8+ MB\n",
      "первые 5 строк *****************************************************************************************************\n"
     ]
    },
    {
     "data": {
      "text/html": [
       "<div>\n",
       "<style scoped>\n",
       "    .dataframe tbody tr th:only-of-type {\n",
       "        vertical-align: middle;\n",
       "    }\n",
       "\n",
       "    .dataframe tbody tr th {\n",
       "        vertical-align: top;\n",
       "    }\n",
       "\n",
       "    .dataframe thead th {\n",
       "        text-align: right;\n",
       "    }\n",
       "</style>\n",
       "<table border=\"1\" class=\"dataframe\">\n",
       "  <thead>\n",
       "    <tr style=\"text-align: right;\">\n",
       "      <th></th>\n",
       "      <th>id</th>\n",
       "      <th>f0</th>\n",
       "      <th>f1</th>\n",
       "      <th>f2</th>\n",
       "      <th>product</th>\n",
       "    </tr>\n",
       "  </thead>\n",
       "  <tbody>\n",
       "    <tr>\n",
       "      <th>0</th>\n",
       "      <td>txEyH</td>\n",
       "      <td>0.705745</td>\n",
       "      <td>-0.497823</td>\n",
       "      <td>1.221170</td>\n",
       "      <td>105.280062</td>\n",
       "    </tr>\n",
       "    <tr>\n",
       "      <th>1</th>\n",
       "      <td>2acmU</td>\n",
       "      <td>1.334711</td>\n",
       "      <td>-0.340164</td>\n",
       "      <td>4.365080</td>\n",
       "      <td>73.037750</td>\n",
       "    </tr>\n",
       "    <tr>\n",
       "      <th>2</th>\n",
       "      <td>409Wp</td>\n",
       "      <td>1.022732</td>\n",
       "      <td>0.151990</td>\n",
       "      <td>1.419926</td>\n",
       "      <td>85.265647</td>\n",
       "    </tr>\n",
       "    <tr>\n",
       "      <th>3</th>\n",
       "      <td>iJLyR</td>\n",
       "      <td>-0.032172</td>\n",
       "      <td>0.139033</td>\n",
       "      <td>2.978566</td>\n",
       "      <td>168.620776</td>\n",
       "    </tr>\n",
       "    <tr>\n",
       "      <th>4</th>\n",
       "      <td>Xdl7t</td>\n",
       "      <td>1.988431</td>\n",
       "      <td>0.155413</td>\n",
       "      <td>4.751769</td>\n",
       "      <td>154.036647</td>\n",
       "    </tr>\n",
       "  </tbody>\n",
       "</table>\n",
       "</div>"
      ],
      "text/plain": [
       "      id        f0        f1        f2     product\n",
       "0  txEyH  0.705745 -0.497823  1.221170  105.280062\n",
       "1  2acmU  1.334711 -0.340164  4.365080   73.037750\n",
       "2  409Wp  1.022732  0.151990  1.419926   85.265647\n",
       "3  iJLyR -0.032172  0.139033  2.978566  168.620776\n",
       "4  Xdl7t  1.988431  0.155413  4.751769  154.036647"
      ]
     },
     "metadata": {},
     "output_type": "display_data"
    },
    {
     "name": "stdout",
     "output_type": "stream",
     "text": [
      "название столбцов **************************************************************************************************\n"
     ]
    },
    {
     "data": {
      "text/plain": [
       "Index(['id', 'f0', 'f1', 'f2', 'product'], dtype='object')"
      ]
     },
     "metadata": {},
     "output_type": "display_data"
    },
    {
     "name": "stdout",
     "output_type": "stream",
     "text": [
      "количество пропусков ***********************************************************************************************\n",
      "id         0\n",
      "f0         0\n",
      "f1         0\n",
      "f2         0\n",
      "product    0\n",
      "dtype: int64\n",
      "количество явных дубликатов ********************************************************************************************\n",
      "0\n"
     ]
    },
    {
     "data": {
      "text/html": [
       "<div>\n",
       "<style scoped>\n",
       "    .dataframe tbody tr th:only-of-type {\n",
       "        vertical-align: middle;\n",
       "    }\n",
       "\n",
       "    .dataframe tbody tr th {\n",
       "        vertical-align: top;\n",
       "    }\n",
       "\n",
       "    .dataframe thead th {\n",
       "        text-align: right;\n",
       "    }\n",
       "</style>\n",
       "<table border=\"1\" class=\"dataframe\">\n",
       "  <thead>\n",
       "    <tr style=\"text-align: right;\">\n",
       "      <th></th>\n",
       "      <th>count</th>\n",
       "      <th>mean</th>\n",
       "      <th>std</th>\n",
       "      <th>min</th>\n",
       "      <th>25%</th>\n",
       "      <th>50%</th>\n",
       "      <th>75%</th>\n",
       "      <th>max</th>\n",
       "    </tr>\n",
       "  </thead>\n",
       "  <tbody>\n",
       "    <tr>\n",
       "      <th>f0</th>\n",
       "      <td>100000.0</td>\n",
       "      <td>0.500419</td>\n",
       "      <td>0.871832</td>\n",
       "      <td>-1.408605</td>\n",
       "      <td>-0.072580</td>\n",
       "      <td>0.502360</td>\n",
       "      <td>1.073581</td>\n",
       "      <td>2.362331</td>\n",
       "    </tr>\n",
       "    <tr>\n",
       "      <th>f1</th>\n",
       "      <td>100000.0</td>\n",
       "      <td>0.250143</td>\n",
       "      <td>0.504433</td>\n",
       "      <td>-0.848218</td>\n",
       "      <td>-0.200881</td>\n",
       "      <td>0.250252</td>\n",
       "      <td>0.700646</td>\n",
       "      <td>1.343769</td>\n",
       "    </tr>\n",
       "    <tr>\n",
       "      <th>f2</th>\n",
       "      <td>100000.0</td>\n",
       "      <td>2.502647</td>\n",
       "      <td>3.248248</td>\n",
       "      <td>-12.088328</td>\n",
       "      <td>0.287748</td>\n",
       "      <td>2.515969</td>\n",
       "      <td>4.715088</td>\n",
       "      <td>16.003790</td>\n",
       "    </tr>\n",
       "    <tr>\n",
       "      <th>product</th>\n",
       "      <td>100000.0</td>\n",
       "      <td>92.500000</td>\n",
       "      <td>44.288691</td>\n",
       "      <td>0.000000</td>\n",
       "      <td>56.497507</td>\n",
       "      <td>91.849972</td>\n",
       "      <td>128.564089</td>\n",
       "      <td>185.364347</td>\n",
       "    </tr>\n",
       "  </tbody>\n",
       "</table>\n",
       "</div>"
      ],
      "text/plain": [
       "            count       mean        std        min        25%        50%  \\\n",
       "f0       100000.0   0.500419   0.871832  -1.408605  -0.072580   0.502360   \n",
       "f1       100000.0   0.250143   0.504433  -0.848218  -0.200881   0.250252   \n",
       "f2       100000.0   2.502647   3.248248 -12.088328   0.287748   2.515969   \n",
       "product  100000.0  92.500000  44.288691   0.000000  56.497507  91.849972   \n",
       "\n",
       "                75%         max  \n",
       "f0         1.073581    2.362331  \n",
       "f1         0.700646    1.343769  \n",
       "f2         4.715088   16.003790  \n",
       "product  128.564089  185.364347  "
      ]
     },
     "metadata": {},
     "output_type": "display_data"
    }
   ],
   "source": [
    "check_data(geo_data_0)"
   ]
  },
  {
   "cell_type": "code",
   "execution_count": 8,
   "metadata": {},
   "outputs": [
    {
     "name": "stdout",
     "output_type": "stream",
     "text": [
      "общая информация ***************************************************************************************************\n",
      "<class 'pandas.core.frame.DataFrame'>\n",
      "RangeIndex: 100000 entries, 0 to 99999\n",
      "Data columns (total 5 columns):\n",
      " #   Column   Non-Null Count   Dtype  \n",
      "---  ------   --------------   -----  \n",
      " 0   id       100000 non-null  object \n",
      " 1   f0       100000 non-null  float64\n",
      " 2   f1       100000 non-null  float64\n",
      " 3   f2       100000 non-null  float64\n",
      " 4   product  100000 non-null  float64\n",
      "dtypes: float64(4), object(1)\n",
      "memory usage: 3.8+ MB\n",
      "первые 5 строк *****************************************************************************************************\n"
     ]
    },
    {
     "data": {
      "text/html": [
       "<div>\n",
       "<style scoped>\n",
       "    .dataframe tbody tr th:only-of-type {\n",
       "        vertical-align: middle;\n",
       "    }\n",
       "\n",
       "    .dataframe tbody tr th {\n",
       "        vertical-align: top;\n",
       "    }\n",
       "\n",
       "    .dataframe thead th {\n",
       "        text-align: right;\n",
       "    }\n",
       "</style>\n",
       "<table border=\"1\" class=\"dataframe\">\n",
       "  <thead>\n",
       "    <tr style=\"text-align: right;\">\n",
       "      <th></th>\n",
       "      <th>id</th>\n",
       "      <th>f0</th>\n",
       "      <th>f1</th>\n",
       "      <th>f2</th>\n",
       "      <th>product</th>\n",
       "    </tr>\n",
       "  </thead>\n",
       "  <tbody>\n",
       "    <tr>\n",
       "      <th>0</th>\n",
       "      <td>kBEdx</td>\n",
       "      <td>-15.001348</td>\n",
       "      <td>-8.276000</td>\n",
       "      <td>-0.005876</td>\n",
       "      <td>3.179103</td>\n",
       "    </tr>\n",
       "    <tr>\n",
       "      <th>1</th>\n",
       "      <td>62mP7</td>\n",
       "      <td>14.272088</td>\n",
       "      <td>-3.475083</td>\n",
       "      <td>0.999183</td>\n",
       "      <td>26.953261</td>\n",
       "    </tr>\n",
       "    <tr>\n",
       "      <th>2</th>\n",
       "      <td>vyE1P</td>\n",
       "      <td>6.263187</td>\n",
       "      <td>-5.948386</td>\n",
       "      <td>5.001160</td>\n",
       "      <td>134.766305</td>\n",
       "    </tr>\n",
       "    <tr>\n",
       "      <th>3</th>\n",
       "      <td>KcrkZ</td>\n",
       "      <td>-13.081196</td>\n",
       "      <td>-11.506057</td>\n",
       "      <td>4.999415</td>\n",
       "      <td>137.945408</td>\n",
       "    </tr>\n",
       "    <tr>\n",
       "      <th>4</th>\n",
       "      <td>AHL4O</td>\n",
       "      <td>12.702195</td>\n",
       "      <td>-8.147433</td>\n",
       "      <td>5.004363</td>\n",
       "      <td>134.766305</td>\n",
       "    </tr>\n",
       "  </tbody>\n",
       "</table>\n",
       "</div>"
      ],
      "text/plain": [
       "      id         f0         f1        f2     product\n",
       "0  kBEdx -15.001348  -8.276000 -0.005876    3.179103\n",
       "1  62mP7  14.272088  -3.475083  0.999183   26.953261\n",
       "2  vyE1P   6.263187  -5.948386  5.001160  134.766305\n",
       "3  KcrkZ -13.081196 -11.506057  4.999415  137.945408\n",
       "4  AHL4O  12.702195  -8.147433  5.004363  134.766305"
      ]
     },
     "metadata": {},
     "output_type": "display_data"
    },
    {
     "name": "stdout",
     "output_type": "stream",
     "text": [
      "название столбцов **************************************************************************************************\n"
     ]
    },
    {
     "data": {
      "text/plain": [
       "Index(['id', 'f0', 'f1', 'f2', 'product'], dtype='object')"
      ]
     },
     "metadata": {},
     "output_type": "display_data"
    },
    {
     "name": "stdout",
     "output_type": "stream",
     "text": [
      "количество пропусков ***********************************************************************************************\n",
      "id         0\n",
      "f0         0\n",
      "f1         0\n",
      "f2         0\n",
      "product    0\n",
      "dtype: int64\n",
      "количество явных дубликатов ********************************************************************************************\n",
      "0\n"
     ]
    },
    {
     "data": {
      "text/html": [
       "<div>\n",
       "<style scoped>\n",
       "    .dataframe tbody tr th:only-of-type {\n",
       "        vertical-align: middle;\n",
       "    }\n",
       "\n",
       "    .dataframe tbody tr th {\n",
       "        vertical-align: top;\n",
       "    }\n",
       "\n",
       "    .dataframe thead th {\n",
       "        text-align: right;\n",
       "    }\n",
       "</style>\n",
       "<table border=\"1\" class=\"dataframe\">\n",
       "  <thead>\n",
       "    <tr style=\"text-align: right;\">\n",
       "      <th></th>\n",
       "      <th>count</th>\n",
       "      <th>mean</th>\n",
       "      <th>std</th>\n",
       "      <th>min</th>\n",
       "      <th>25%</th>\n",
       "      <th>50%</th>\n",
       "      <th>75%</th>\n",
       "      <th>max</th>\n",
       "    </tr>\n",
       "  </thead>\n",
       "  <tbody>\n",
       "    <tr>\n",
       "      <th>f0</th>\n",
       "      <td>100000.0</td>\n",
       "      <td>1.141296</td>\n",
       "      <td>8.965932</td>\n",
       "      <td>-31.609576</td>\n",
       "      <td>-6.298551</td>\n",
       "      <td>1.153055</td>\n",
       "      <td>8.621015</td>\n",
       "      <td>29.421755</td>\n",
       "    </tr>\n",
       "    <tr>\n",
       "      <th>f1</th>\n",
       "      <td>100000.0</td>\n",
       "      <td>-4.796579</td>\n",
       "      <td>5.119872</td>\n",
       "      <td>-26.358598</td>\n",
       "      <td>-8.267985</td>\n",
       "      <td>-4.813172</td>\n",
       "      <td>-1.332816</td>\n",
       "      <td>18.734063</td>\n",
       "    </tr>\n",
       "    <tr>\n",
       "      <th>f2</th>\n",
       "      <td>100000.0</td>\n",
       "      <td>2.494541</td>\n",
       "      <td>1.703572</td>\n",
       "      <td>-0.018144</td>\n",
       "      <td>1.000021</td>\n",
       "      <td>2.011479</td>\n",
       "      <td>3.999904</td>\n",
       "      <td>5.019721</td>\n",
       "    </tr>\n",
       "    <tr>\n",
       "      <th>product</th>\n",
       "      <td>100000.0</td>\n",
       "      <td>68.825000</td>\n",
       "      <td>45.944423</td>\n",
       "      <td>0.000000</td>\n",
       "      <td>26.953261</td>\n",
       "      <td>57.085625</td>\n",
       "      <td>107.813044</td>\n",
       "      <td>137.945408</td>\n",
       "    </tr>\n",
       "  </tbody>\n",
       "</table>\n",
       "</div>"
      ],
      "text/plain": [
       "            count       mean        std        min        25%        50%  \\\n",
       "f0       100000.0   1.141296   8.965932 -31.609576  -6.298551   1.153055   \n",
       "f1       100000.0  -4.796579   5.119872 -26.358598  -8.267985  -4.813172   \n",
       "f2       100000.0   2.494541   1.703572  -0.018144   1.000021   2.011479   \n",
       "product  100000.0  68.825000  45.944423   0.000000  26.953261  57.085625   \n",
       "\n",
       "                75%         max  \n",
       "f0         8.621015   29.421755  \n",
       "f1        -1.332816   18.734063  \n",
       "f2         3.999904    5.019721  \n",
       "product  107.813044  137.945408  "
      ]
     },
     "metadata": {},
     "output_type": "display_data"
    }
   ],
   "source": [
    "check_data(geo_data_1)"
   ]
  },
  {
   "cell_type": "code",
   "execution_count": 9,
   "metadata": {},
   "outputs": [
    {
     "name": "stdout",
     "output_type": "stream",
     "text": [
      "общая информация ***************************************************************************************************\n",
      "<class 'pandas.core.frame.DataFrame'>\n",
      "RangeIndex: 100000 entries, 0 to 99999\n",
      "Data columns (total 5 columns):\n",
      " #   Column   Non-Null Count   Dtype  \n",
      "---  ------   --------------   -----  \n",
      " 0   id       100000 non-null  object \n",
      " 1   f0       100000 non-null  float64\n",
      " 2   f1       100000 non-null  float64\n",
      " 3   f2       100000 non-null  float64\n",
      " 4   product  100000 non-null  float64\n",
      "dtypes: float64(4), object(1)\n",
      "memory usage: 3.8+ MB\n",
      "первые 5 строк *****************************************************************************************************\n"
     ]
    },
    {
     "data": {
      "text/html": [
       "<div>\n",
       "<style scoped>\n",
       "    .dataframe tbody tr th:only-of-type {\n",
       "        vertical-align: middle;\n",
       "    }\n",
       "\n",
       "    .dataframe tbody tr th {\n",
       "        vertical-align: top;\n",
       "    }\n",
       "\n",
       "    .dataframe thead th {\n",
       "        text-align: right;\n",
       "    }\n",
       "</style>\n",
       "<table border=\"1\" class=\"dataframe\">\n",
       "  <thead>\n",
       "    <tr style=\"text-align: right;\">\n",
       "      <th></th>\n",
       "      <th>id</th>\n",
       "      <th>f0</th>\n",
       "      <th>f1</th>\n",
       "      <th>f2</th>\n",
       "      <th>product</th>\n",
       "    </tr>\n",
       "  </thead>\n",
       "  <tbody>\n",
       "    <tr>\n",
       "      <th>0</th>\n",
       "      <td>fwXo0</td>\n",
       "      <td>-1.146987</td>\n",
       "      <td>0.963328</td>\n",
       "      <td>-0.828965</td>\n",
       "      <td>27.758673</td>\n",
       "    </tr>\n",
       "    <tr>\n",
       "      <th>1</th>\n",
       "      <td>WJtFt</td>\n",
       "      <td>0.262778</td>\n",
       "      <td>0.269839</td>\n",
       "      <td>-2.530187</td>\n",
       "      <td>56.069697</td>\n",
       "    </tr>\n",
       "    <tr>\n",
       "      <th>2</th>\n",
       "      <td>ovLUW</td>\n",
       "      <td>0.194587</td>\n",
       "      <td>0.289035</td>\n",
       "      <td>-5.586433</td>\n",
       "      <td>62.871910</td>\n",
       "    </tr>\n",
       "    <tr>\n",
       "      <th>3</th>\n",
       "      <td>q6cA6</td>\n",
       "      <td>2.236060</td>\n",
       "      <td>-0.553760</td>\n",
       "      <td>0.930038</td>\n",
       "      <td>114.572842</td>\n",
       "    </tr>\n",
       "    <tr>\n",
       "      <th>4</th>\n",
       "      <td>WPMUX</td>\n",
       "      <td>-0.515993</td>\n",
       "      <td>1.716266</td>\n",
       "      <td>5.899011</td>\n",
       "      <td>149.600746</td>\n",
       "    </tr>\n",
       "  </tbody>\n",
       "</table>\n",
       "</div>"
      ],
      "text/plain": [
       "      id        f0        f1        f2     product\n",
       "0  fwXo0 -1.146987  0.963328 -0.828965   27.758673\n",
       "1  WJtFt  0.262778  0.269839 -2.530187   56.069697\n",
       "2  ovLUW  0.194587  0.289035 -5.586433   62.871910\n",
       "3  q6cA6  2.236060 -0.553760  0.930038  114.572842\n",
       "4  WPMUX -0.515993  1.716266  5.899011  149.600746"
      ]
     },
     "metadata": {},
     "output_type": "display_data"
    },
    {
     "name": "stdout",
     "output_type": "stream",
     "text": [
      "название столбцов **************************************************************************************************\n"
     ]
    },
    {
     "data": {
      "text/plain": [
       "Index(['id', 'f0', 'f1', 'f2', 'product'], dtype='object')"
      ]
     },
     "metadata": {},
     "output_type": "display_data"
    },
    {
     "name": "stdout",
     "output_type": "stream",
     "text": [
      "количество пропусков ***********************************************************************************************\n",
      "id         0\n",
      "f0         0\n",
      "f1         0\n",
      "f2         0\n",
      "product    0\n",
      "dtype: int64\n",
      "количество явных дубликатов ********************************************************************************************\n",
      "0\n"
     ]
    },
    {
     "data": {
      "text/html": [
       "<div>\n",
       "<style scoped>\n",
       "    .dataframe tbody tr th:only-of-type {\n",
       "        vertical-align: middle;\n",
       "    }\n",
       "\n",
       "    .dataframe tbody tr th {\n",
       "        vertical-align: top;\n",
       "    }\n",
       "\n",
       "    .dataframe thead th {\n",
       "        text-align: right;\n",
       "    }\n",
       "</style>\n",
       "<table border=\"1\" class=\"dataframe\">\n",
       "  <thead>\n",
       "    <tr style=\"text-align: right;\">\n",
       "      <th></th>\n",
       "      <th>count</th>\n",
       "      <th>mean</th>\n",
       "      <th>std</th>\n",
       "      <th>min</th>\n",
       "      <th>25%</th>\n",
       "      <th>50%</th>\n",
       "      <th>75%</th>\n",
       "      <th>max</th>\n",
       "    </tr>\n",
       "  </thead>\n",
       "  <tbody>\n",
       "    <tr>\n",
       "      <th>f0</th>\n",
       "      <td>100000.0</td>\n",
       "      <td>0.002023</td>\n",
       "      <td>1.732045</td>\n",
       "      <td>-8.760004</td>\n",
       "      <td>-1.162288</td>\n",
       "      <td>0.009424</td>\n",
       "      <td>1.158535</td>\n",
       "      <td>7.238262</td>\n",
       "    </tr>\n",
       "    <tr>\n",
       "      <th>f1</th>\n",
       "      <td>100000.0</td>\n",
       "      <td>-0.002081</td>\n",
       "      <td>1.730417</td>\n",
       "      <td>-7.084020</td>\n",
       "      <td>-1.174820</td>\n",
       "      <td>-0.009482</td>\n",
       "      <td>1.163678</td>\n",
       "      <td>7.844801</td>\n",
       "    </tr>\n",
       "    <tr>\n",
       "      <th>f2</th>\n",
       "      <td>100000.0</td>\n",
       "      <td>2.495128</td>\n",
       "      <td>3.473445</td>\n",
       "      <td>-11.970335</td>\n",
       "      <td>0.130359</td>\n",
       "      <td>2.484236</td>\n",
       "      <td>4.858794</td>\n",
       "      <td>16.739402</td>\n",
       "    </tr>\n",
       "    <tr>\n",
       "      <th>product</th>\n",
       "      <td>100000.0</td>\n",
       "      <td>95.000000</td>\n",
       "      <td>44.749921</td>\n",
       "      <td>0.000000</td>\n",
       "      <td>59.450441</td>\n",
       "      <td>94.925613</td>\n",
       "      <td>130.595027</td>\n",
       "      <td>190.029838</td>\n",
       "    </tr>\n",
       "  </tbody>\n",
       "</table>\n",
       "</div>"
      ],
      "text/plain": [
       "            count       mean        std        min        25%        50%  \\\n",
       "f0       100000.0   0.002023   1.732045  -8.760004  -1.162288   0.009424   \n",
       "f1       100000.0  -0.002081   1.730417  -7.084020  -1.174820  -0.009482   \n",
       "f2       100000.0   2.495128   3.473445 -11.970335   0.130359   2.484236   \n",
       "product  100000.0  95.000000  44.749921   0.000000  59.450441  94.925613   \n",
       "\n",
       "                75%         max  \n",
       "f0         1.158535    7.238262  \n",
       "f1         1.163678    7.844801  \n",
       "f2         4.858794   16.739402  \n",
       "product  130.595027  190.029838  "
      ]
     },
     "metadata": {},
     "output_type": "display_data"
    }
   ],
   "source": [
    "check_data(geo_data_2)"
   ]
  },
  {
   "cell_type": "markdown",
   "metadata": {},
   "source": [
    "Вывод 1.1:\n",
    "- данные загружены \n",
    "- пропусков не обнаружено \n",
    "- дубликатов не обнаружено\n",
    "- названия столбцов не искажены\n",
    "- данные соответствуют указанным типам "
   ]
  },
  {
   "cell_type": "markdown",
   "metadata": {},
   "source": [
    "###  Исследовательский анализ данных"
   ]
  },
  {
   "cell_type": "code",
   "execution_count": 10,
   "metadata": {},
   "outputs": [],
   "source": [
    "def stat(DATA):\n",
    "    display(DATA.describe().T)\n",
    "    DATA.drop('id', axis=1).hist(figsize=(10, 7))"
   ]
  },
  {
   "cell_type": "code",
   "execution_count": 11,
   "metadata": {},
   "outputs": [
    {
     "data": {
      "text/html": [
       "<div>\n",
       "<style scoped>\n",
       "    .dataframe tbody tr th:only-of-type {\n",
       "        vertical-align: middle;\n",
       "    }\n",
       "\n",
       "    .dataframe tbody tr th {\n",
       "        vertical-align: top;\n",
       "    }\n",
       "\n",
       "    .dataframe thead th {\n",
       "        text-align: right;\n",
       "    }\n",
       "</style>\n",
       "<table border=\"1\" class=\"dataframe\">\n",
       "  <thead>\n",
       "    <tr style=\"text-align: right;\">\n",
       "      <th></th>\n",
       "      <th>count</th>\n",
       "      <th>mean</th>\n",
       "      <th>std</th>\n",
       "      <th>min</th>\n",
       "      <th>25%</th>\n",
       "      <th>50%</th>\n",
       "      <th>75%</th>\n",
       "      <th>max</th>\n",
       "    </tr>\n",
       "  </thead>\n",
       "  <tbody>\n",
       "    <tr>\n",
       "      <th>f0</th>\n",
       "      <td>100000.0</td>\n",
       "      <td>0.500419</td>\n",
       "      <td>0.871832</td>\n",
       "      <td>-1.408605</td>\n",
       "      <td>-0.072580</td>\n",
       "      <td>0.502360</td>\n",
       "      <td>1.073581</td>\n",
       "      <td>2.362331</td>\n",
       "    </tr>\n",
       "    <tr>\n",
       "      <th>f1</th>\n",
       "      <td>100000.0</td>\n",
       "      <td>0.250143</td>\n",
       "      <td>0.504433</td>\n",
       "      <td>-0.848218</td>\n",
       "      <td>-0.200881</td>\n",
       "      <td>0.250252</td>\n",
       "      <td>0.700646</td>\n",
       "      <td>1.343769</td>\n",
       "    </tr>\n",
       "    <tr>\n",
       "      <th>f2</th>\n",
       "      <td>100000.0</td>\n",
       "      <td>2.502647</td>\n",
       "      <td>3.248248</td>\n",
       "      <td>-12.088328</td>\n",
       "      <td>0.287748</td>\n",
       "      <td>2.515969</td>\n",
       "      <td>4.715088</td>\n",
       "      <td>16.003790</td>\n",
       "    </tr>\n",
       "    <tr>\n",
       "      <th>product</th>\n",
       "      <td>100000.0</td>\n",
       "      <td>92.500000</td>\n",
       "      <td>44.288691</td>\n",
       "      <td>0.000000</td>\n",
       "      <td>56.497507</td>\n",
       "      <td>91.849972</td>\n",
       "      <td>128.564089</td>\n",
       "      <td>185.364347</td>\n",
       "    </tr>\n",
       "  </tbody>\n",
       "</table>\n",
       "</div>"
      ],
      "text/plain": [
       "            count       mean        std        min        25%        50%  \\\n",
       "f0       100000.0   0.500419   0.871832  -1.408605  -0.072580   0.502360   \n",
       "f1       100000.0   0.250143   0.504433  -0.848218  -0.200881   0.250252   \n",
       "f2       100000.0   2.502647   3.248248 -12.088328   0.287748   2.515969   \n",
       "product  100000.0  92.500000  44.288691   0.000000  56.497507  91.849972   \n",
       "\n",
       "                75%         max  \n",
       "f0         1.073581    2.362331  \n",
       "f1         0.700646    1.343769  \n",
       "f2         4.715088   16.003790  \n",
       "product  128.564089  185.364347  "
      ]
     },
     "metadata": {},
     "output_type": "display_data"
    },
    {
     "data": {
      "image/png": "[encoded data removed]",
      "text/plain": [
       "<Figure size 720x504 with 4 Axes>"
      ]
     },
     "metadata": {
      "needs_background": "light"
     },
     "output_type": "display_data"
    }
   ],
   "source": [
    "stat(geo_data_0)"
   ]
  },
  {
   "cell_type": "code",
   "execution_count": 12,
   "metadata": {},
   "outputs": [
    {
     "data": {
      "text/html": [
       "<div>\n",
       "<style scoped>\n",
       "    .dataframe tbody tr th:only-of-type {\n",
       "        vertical-align: middle;\n",
       "    }\n",
       "\n",
       "    .dataframe tbody tr th {\n",
       "        vertical-align: top;\n",
       "    }\n",
       "\n",
       "    .dataframe thead th {\n",
       "        text-align: right;\n",
       "    }\n",
       "</style>\n",
       "<table border=\"1\" class=\"dataframe\">\n",
       "  <thead>\n",
       "    <tr style=\"text-align: right;\">\n",
       "      <th></th>\n",
       "      <th>count</th>\n",
       "      <th>mean</th>\n",
       "      <th>std</th>\n",
       "      <th>min</th>\n",
       "      <th>25%</th>\n",
       "      <th>50%</th>\n",
       "      <th>75%</th>\n",
       "      <th>max</th>\n",
       "    </tr>\n",
       "  </thead>\n",
       "  <tbody>\n",
       "    <tr>\n",
       "      <th>f0</th>\n",
       "      <td>100000.0</td>\n",
       "      <td>1.141296</td>\n",
       "      <td>8.965932</td>\n",
       "      <td>-31.609576</td>\n",
       "      <td>-6.298551</td>\n",
       "      <td>1.153055</td>\n",
       "      <td>8.621015</td>\n",
       "      <td>29.421755</td>\n",
       "    </tr>\n",
       "    <tr>\n",
       "      <th>f1</th>\n",
       "      <td>100000.0</td>\n",
       "      <td>-4.796579</td>\n",
       "      <td>5.119872</td>\n",
       "      <td>-26.358598</td>\n",
       "      <td>-8.267985</td>\n",
       "      <td>-4.813172</td>\n",
       "      <td>-1.332816</td>\n",
       "      <td>18.734063</td>\n",
       "    </tr>\n",
       "    <tr>\n",
       "      <th>f2</th>\n",
       "      <td>100000.0</td>\n",
       "      <td>2.494541</td>\n",
       "      <td>1.703572</td>\n",
       "      <td>-0.018144</td>\n",
       "      <td>1.000021</td>\n",
       "      <td>2.011479</td>\n",
       "      <td>3.999904</td>\n",
       "      <td>5.019721</td>\n",
       "    </tr>\n",
       "    <tr>\n",
       "      <th>product</th>\n",
       "      <td>100000.0</td>\n",
       "      <td>68.825000</td>\n",
       "      <td>45.944423</td>\n",
       "      <td>0.000000</td>\n",
       "      <td>26.953261</td>\n",
       "      <td>57.085625</td>\n",
       "      <td>107.813044</td>\n",
       "      <td>137.945408</td>\n",
       "    </tr>\n",
       "  </tbody>\n",
       "</table>\n",
       "</div>"
      ],
      "text/plain": [
       "            count       mean        std        min        25%        50%  \\\n",
       "f0       100000.0   1.141296   8.965932 -31.609576  -6.298551   1.153055   \n",
       "f1       100000.0  -4.796579   5.119872 -26.358598  -8.267985  -4.813172   \n",
       "f2       100000.0   2.494541   1.703572  -0.018144   1.000021   2.011479   \n",
       "product  100000.0  68.825000  45.944423   0.000000  26.953261  57.085625   \n",
       "\n",
       "                75%         max  \n",
       "f0         8.621015   29.421755  \n",
       "f1        -1.332816   18.734063  \n",
       "f2         3.999904    5.019721  \n",
       "product  107.813044  137.945408  "
      ]
     },
     "metadata": {},
     "output_type": "display_data"
    },
    {
     "data": {
      "image/png": "[encoded data removed]",
      "text/plain": [
       "<Figure size 720x504 with 4 Axes>"
      ]
     },
     "metadata": {
      "needs_background": "light"
     },
     "output_type": "display_data"
    }
   ],
   "source": [
    "stat(geo_data_1)"
   ]
  },
  {
   "cell_type": "code",
   "execution_count": 13,
   "metadata": {},
   "outputs": [
    {
     "data": {
      "text/html": [
       "<div>\n",
       "<style scoped>\n",
       "    .dataframe tbody tr th:only-of-type {\n",
       "        vertical-align: middle;\n",
       "    }\n",
       "\n",
       "    .dataframe tbody tr th {\n",
       "        vertical-align: top;\n",
       "    }\n",
       "\n",
       "    .dataframe thead th {\n",
       "        text-align: right;\n",
       "    }\n",
       "</style>\n",
       "<table border=\"1\" class=\"dataframe\">\n",
       "  <thead>\n",
       "    <tr style=\"text-align: right;\">\n",
       "      <th></th>\n",
       "      <th>count</th>\n",
       "      <th>mean</th>\n",
       "      <th>std</th>\n",
       "      <th>min</th>\n",
       "      <th>25%</th>\n",
       "      <th>50%</th>\n",
       "      <th>75%</th>\n",
       "      <th>max</th>\n",
       "    </tr>\n",
       "  </thead>\n",
       "  <tbody>\n",
       "    <tr>\n",
       "      <th>f0</th>\n",
       "      <td>100000.0</td>\n",
       "      <td>0.002023</td>\n",
       "      <td>1.732045</td>\n",
       "      <td>-8.760004</td>\n",
       "      <td>-1.162288</td>\n",
       "      <td>0.009424</td>\n",
       "      <td>1.158535</td>\n",
       "      <td>7.238262</td>\n",
       "    </tr>\n",
       "    <tr>\n",
       "      <th>f1</th>\n",
       "      <td>100000.0</td>\n",
       "      <td>-0.002081</td>\n",
       "      <td>1.730417</td>\n",
       "      <td>-7.084020</td>\n",
       "      <td>-1.174820</td>\n",
       "      <td>-0.009482</td>\n",
       "      <td>1.163678</td>\n",
       "      <td>7.844801</td>\n",
       "    </tr>\n",
       "    <tr>\n",
       "      <th>f2</th>\n",
       "      <td>100000.0</td>\n",
       "      <td>2.495128</td>\n",
       "      <td>3.473445</td>\n",
       "      <td>-11.970335</td>\n",
       "      <td>0.130359</td>\n",
       "      <td>2.484236</td>\n",
       "      <td>4.858794</td>\n",
       "      <td>16.739402</td>\n",
       "    </tr>\n",
       "    <tr>\n",
       "      <th>product</th>\n",
       "      <td>100000.0</td>\n",
       "      <td>95.000000</td>\n",
       "      <td>44.749921</td>\n",
       "      <td>0.000000</td>\n",
       "      <td>59.450441</td>\n",
       "      <td>94.925613</td>\n",
       "      <td>130.595027</td>\n",
       "      <td>190.029838</td>\n",
       "    </tr>\n",
       "  </tbody>\n",
       "</table>\n",
       "</div>"
      ],
      "text/plain": [
       "            count       mean        std        min        25%        50%  \\\n",
       "f0       100000.0   0.002023   1.732045  -8.760004  -1.162288   0.009424   \n",
       "f1       100000.0  -0.002081   1.730417  -7.084020  -1.174820  -0.009482   \n",
       "f2       100000.0   2.495128   3.473445 -11.970335   0.130359   2.484236   \n",
       "product  100000.0  95.000000  44.749921   0.000000  59.450441  94.925613   \n",
       "\n",
       "                75%         max  \n",
       "f0         1.158535    7.238262  \n",
       "f1         1.163678    7.844801  \n",
       "f2         4.858794   16.739402  \n",
       "product  130.595027  190.029838  "
      ]
     },
     "metadata": {},
     "output_type": "display_data"
    },
    {
     "data": {
      "image/png": "[encoded data removed]",
      "text/plain": [
       "<Figure size 720x504 with 4 Axes>"
      ]
     },
     "metadata": {
      "needs_background": "light"
     },
     "output_type": "display_data"
    }
   ],
   "source": [
    "stat(geo_data_2)"
   ]
  },
  {
   "cell_type": "code",
   "execution_count": 14,
   "metadata": {},
   "outputs": [],
   "source": [
    "def bxplt(DATA, name):\n",
    "    sns.boxplot(data = DATA, y = name)\n",
    "    plt.ylabel(name)\n",
    "    plt.title('Ящик с усами')"
   ]
  },
  {
   "cell_type": "code",
   "execution_count": 15,
   "metadata": {},
   "outputs": [
    {
     "data": {
      "image/png": "[encoded data removed]",
      "text/plain": [
       "<Figure size 432x288 with 1 Axes>"
      ]
     },
     "metadata": {
      "needs_background": "light"
     },
     "output_type": "display_data"
    }
   ],
   "source": [
    "bxplt(geo_data_0, 'f0')"
   ]
  },
  {
   "cell_type": "code",
   "execution_count": 16,
   "metadata": {},
   "outputs": [
    {
     "data": {
      "image/png": "[encoded data removed]",
      "text/plain": [
       "<Figure size 432x288 with 1 Axes>"
      ]
     },
     "metadata": {
      "needs_background": "light"
     },
     "output_type": "display_data"
    }
   ],
   "source": [
    "bxplt(geo_data_0, 'f1')"
   ]
  },
  {
   "cell_type": "code",
   "execution_count": 17,
   "metadata": {},
   "outputs": [
    {
     "data": {
      "image/png": "[encoded data removed]",
      "text/plain": [
       "<Figure size 432x288 with 1 Axes>"
      ]
     },
     "metadata": {
      "needs_background": "light"
     },
     "output_type": "display_data"
    }
   ],
   "source": [
    "bxplt(geo_data_0, 'f2')"
   ]
  },
  {
   "cell_type": "code",
   "execution_count": 18,
   "metadata": {},
   "outputs": [
    {
     "data": {
      "image/png": "[encoded data removed]",
      "text/plain": [
       "<Figure size 432x288 with 1 Axes>"
      ]
     },
     "metadata": {
      "needs_background": "light"
     },
     "output_type": "display_data"
    }
   ],
   "source": [
    "bxplt(geo_data_0, 'product')"
   ]
  },
  {
   "cell_type": "code",
   "execution_count": 19,
   "metadata": {},
   "outputs": [
    {
     "data": {
      "image/png": "[encoded data removed]",
      "text/plain": [
       "<Figure size 432x288 with 1 Axes>"
      ]
     },
     "metadata": {
      "needs_background": "light"
     },
     "output_type": "display_data"
    }
   ],
   "source": [
    "bxplt(geo_data_1, 'f0')"
   ]
  },
  {
   "cell_type": "code",
   "execution_count": 20,
   "metadata": {},
   "outputs": [
    {
     "data": {
      "image/png": "[encoded data removed]",
      "text/plain": [
       "<Figure size 432x288 with 1 Axes>"
      ]
     },
     "metadata": {
      "needs_background": "light"
     },
     "output_type": "display_data"
    }
   ],
   "source": [
    "bxplt(geo_data_1, 'f1')"
   ]
  },
  {
   "cell_type": "code",
   "execution_count": 21,
   "metadata": {},
   "outputs": [
    {
     "data": {
      "image/png": "[encoded data removed]",
      "text/plain": [
       "<Figure size 432x288 with 1 Axes>"
      ]
     },
     "metadata": {
      "needs_background": "light"
     },
     "output_type": "display_data"
    }
   ],
   "source": [
    "bxplt(geo_data_1, 'f2')"
   ]
  },
  {
   "cell_type": "code",
   "execution_count": 22,
   "metadata": {},
   "outputs": [
    {
     "data": {
      "image/png": "[encoded data removed]",
      "text/plain": [
       "<Figure size 432x288 with 1 Axes>"
      ]
     },
     "metadata": {
      "needs_background": "light"
     },
     "output_type": "display_data"
    }
   ],
   "source": [
    "bxplt(geo_data_1, 'product')"
   ]
  },
  {
   "cell_type": "code",
   "execution_count": 23,
   "metadata": {},
   "outputs": [
    {
     "data": {
      "image/png": "[encoded data removed]",
      "text/plain": [
       "<Figure size 432x288 with 1 Axes>"
      ]
     },
     "metadata": {
      "needs_background": "light"
     },
     "output_type": "display_data"
    }
   ],
   "source": [
    "bxplt(geo_data_2, 'f0')"
   ]
  },
  {
   "cell_type": "code",
   "execution_count": 24,
   "metadata": {},
   "outputs": [
    {
     "data": {
      "image/png": "[encoded data removed]",
      "text/plain": [
       "<Figure size 432x288 with 1 Axes>"
      ]
     },
     "metadata": {
      "needs_background": "light"
     },
     "output_type": "display_data"
    }
   ],
   "source": [
    "bxplt(geo_data_2, 'f1')"
   ]
  },
  {
   "cell_type": "code",
   "execution_count": 25,
   "metadata": {},
   "outputs": [
    {
     "data": {
      "image/png": "[encoded data removed]",
      "text/plain": [
       "<Figure size 432x288 with 1 Axes>"
      ]
     },
     "metadata": {
      "needs_background": "light"
     },
     "output_type": "display_data"
    }
   ],
   "source": [
    "bxplt(geo_data_2, 'f2')"
   ]
  },
  {
   "cell_type": "code",
   "execution_count": 26,
   "metadata": {},
   "outputs": [
    {
     "data": {
      "image/png": "[encoded data removed]",
      "text/plain": [
       "<Figure size 432x288 with 1 Axes>"
      ]
     },
     "metadata": {
      "needs_background": "light"
     },
     "output_type": "display_data"
    }
   ],
   "source": [
    "bxplt(geo_data_2, 'product')"
   ]
  },
  {
   "cell_type": "markdown",
   "metadata": {},
   "source": [
    "Есть выбросы, выясним какое их количсетво и по необходимости избавимся от них"
   ]
  },
  {
   "cell_type": "code",
   "execution_count": 27,
   "metadata": {},
   "outputs": [
    {
     "name": "stdout",
     "output_type": "stream",
     "text": [
      "Процент выбросов в признаке \"f2\" в таблице geo_data_0 : 1.9539999999999997%\n",
      "Процент выбросов в признаке \"f0\" в таблице geo_data_1 : 0.001%\n",
      "Процент выбросов в признаке \"f1\" в таблице geo_data_1 : 0.327%\n",
      "Процент выбросов в признаке \"f0\" в таблице geo_data_2: 2.125%\n",
      "Процент выбросов в признаке \"f1\" в таблице geo_data_2: 2.038%\n",
      "Процент выбросов в признаке \"f2\" в таблице geo_data_2: 2.9819999999999998%\n"
     ]
    }
   ],
   "source": [
    "print(f'Процент выбросов в признаке \"f2\" в таблице geo_data_0 : {(len(geo_data_0.query(\"f2 > 10 | f2 < -5\")) / len(geo_data_0) * 100)}%')\n",
    "print(f'Процент выбросов в признаке \"f0\" в таблице geo_data_1 : {(len(geo_data_1.query(\"f0 < -30\")) / len(geo_data_1) * 100)}%')\n",
    "print(f'Процент выбросов в признаке \"f1\" в таблице geo_data_1 : {(len(geo_data_1.query(\"f1 >= 10 | f1 <= -20\")) / len(geo_data_1) * 100)}%')\n",
    "print(f'Процент выбросов в признаке \"f0\" в таблице geo_data_2: {(len(geo_data_2.query(\"f0 > 4| f0 < -4\")) / len(geo_data_2) * 100)}%')\n",
    "print(f'Процент выбросов в признаке \"f1\" в таблице geo_data_2: {(len(geo_data_2.query(\"f1 > 4| f1 < -4\")) / len(geo_data_2) * 100)}%')\n",
    "print(f'Процент выбросов в признаке \"f2\" в таблице geo_data_2: {(len(geo_data_2.query(\"f2 > 10| f2 < -5\")) / len(geo_data_2) * 100)}%')"
   ]
  },
  {
   "cell_type": "markdown",
   "metadata": {},
   "source": [
    "Так как проценты выбросов малы и поэтому их влияние незначительно, то их можно оставить"
   ]
  },
  {
   "cell_type": "markdown",
   "metadata": {},
   "source": [
    "### Корелляционный анализ"
   ]
  },
  {
   "cell_type": "markdown",
   "metadata": {},
   "source": [
    "Проведем корреляционный анализ и проверем признаки на мультиколлениарность"
   ]
  },
  {
   "cell_type": "code",
   "execution_count": 28,
   "metadata": {},
   "outputs": [
    {
     "name": "stdout",
     "output_type": "stream",
     "text": [
      "(4, 4)\n"
     ]
    }
   ],
   "source": [
    "# создаём список с наименованиями непрерывных признаков\n",
    "interval_cols = ['f0', 'f1', 'f2', 'product']\n",
    "\n",
    "# считаем корреляции на тренировочной выборке\n",
    "phik_overview = phik_matrix(geo_data_0.set_index('id'),interval_cols=interval_cols)\n",
    "print(phik_overview.shape) "
   ]
  },
  {
   "cell_type": "code",
   "execution_count": 29,
   "metadata": {},
   "outputs": [
    {
     "data": {
      "image/png": "[encoded data removed]",
      "text/plain": [
       "<Figure size 1440x1080 with 2 Axes>"
      ]
     },
     "metadata": {
      "needs_background": "light"
     },
     "output_type": "display_data"
    }
   ],
   "source": [
    "# Функции передаём значения матрицы корреляции phik_overview.values.\n",
    "# Указываем наименования столбцов x_labels=phik_overview.columns.\n",
    "# Указываем наименования строк y_labels=phik_overview.index.\n",
    "# Указываем цвет градиентной отрисовки vmin=0, vmax=1, color_map='Greens'.\n",
    "# Добавляем заголовок title=r'correlation $\\phi_K$'.\n",
    "# Увеличиваем размер шрифта fontsize_factor=1.5.\n",
    "# Увеличиваем размер графика figsize=(20, 15).\n",
    "\n",
    "plot_correlation_matrix(\n",
    "    phik_overview.values,\n",
    "    x_labels=phik_overview.columns,\n",
    "    y_labels=phik_overview.index,\n",
    "    vmin=0, vmax=1, color_map='Greens',\n",
    "    title=r'correlation $\\phi_K$',\n",
    "    fontsize_factor=1.5,\n",
    "    figsize=(20, 15)\n",
    ") "
   ]
  },
  {
   "cell_type": "code",
   "execution_count": 30,
   "metadata": {},
   "outputs": [
    {
     "name": "stdout",
     "output_type": "stream",
     "text": [
      "(4, 4)\n"
     ]
    }
   ],
   "source": [
    "# создаём список с наименованиями непрерывных признаков\n",
    "interval_cols = ['f0', 'f1', 'f2', 'product']\n",
    "\n",
    "# считаем корреляции на тренировочной выборке\n",
    "phik_overview = phik_matrix(geo_data_1.set_index('id'),interval_cols=interval_cols)\n",
    "print(phik_overview.shape) "
   ]
  },
  {
   "cell_type": "code",
   "execution_count": 31,
   "metadata": {},
   "outputs": [
    {
     "data": {
      "image/png": "[encoded data removed]",
      "text/plain": [
       "<Figure size 1440x1080 with 2 Axes>"
      ]
     },
     "metadata": {
      "needs_background": "light"
     },
     "output_type": "display_data"
    }
   ],
   "source": [
    "# Функции передаём значения матрицы корреляции phik_overview.values.\n",
    "# Указываем наименования столбцов x_labels=phik_overview.columns.\n",
    "# Указываем наименования строк y_labels=phik_overview.index.\n",
    "# Указываем цвет градиентной отрисовки vmin=0, vmax=1, color_map='Greens'.\n",
    "# Добавляем заголовок title=r'correlation $\\phi_K$'.\n",
    "# Увеличиваем размер шрифта fontsize_factor=1.5.\n",
    "# Увеличиваем размер графика figsize=(20, 15).\n",
    "\n",
    "plot_correlation_matrix(\n",
    "    phik_overview.values,\n",
    "    x_labels=phik_overview.columns,\n",
    "    y_labels=phik_overview.index,\n",
    "    vmin=0, vmax=1, color_map='Greens',\n",
    "    title=r'correlation $\\phi_K$',\n",
    "    fontsize_factor=1.5,\n",
    "    figsize=(20, 15)\n",
    ") "
   ]
  },
  {
   "cell_type": "code",
   "execution_count": 32,
   "metadata": {},
   "outputs": [
    {
     "name": "stdout",
     "output_type": "stream",
     "text": [
      "(4, 4)\n"
     ]
    }
   ],
   "source": [
    "# создаём список с наименованиями непрерывных признаков\n",
    "interval_cols = ['f0', 'f1', 'f2', 'product']\n",
    "\n",
    "# считаем корреляции на тренировочной выборке\n",
    "phik_overview = phik_matrix(geo_data_2.set_index('id'),interval_cols=interval_cols)\n",
    "print(phik_overview.shape) "
   ]
  },
  {
   "cell_type": "code",
   "execution_count": 33,
   "metadata": {},
   "outputs": [
    {
     "data": {
      "image/png": "[encoded data removed]",
      "text/plain": [
       "<Figure size 1440x1080 with 2 Axes>"
      ]
     },
     "metadata": {
      "needs_background": "light"
     },
     "output_type": "display_data"
    }
   ],
   "source": [
    "# Функции передаём значения матрицы корреляции phik_overview.values.\n",
    "# Указываем наименования столбцов x_labels=phik_overview.columns.\n",
    "# Указываем наименования строк y_labels=phik_overview.index.\n",
    "# Указываем цвет градиентной отрисовки vmin=0, vmax=1, color_map='Greens'.\n",
    "# Добавляем заголовок title=r'correlation $\\phi_K$'.\n",
    "# Увеличиваем размер шрифта fontsize_factor=1.5.\n",
    "# Увеличиваем размер графика figsize=(20, 15).\n",
    "\n",
    "plot_correlation_matrix(\n",
    "    phik_overview.values,\n",
    "    x_labels=phik_overview.columns,\n",
    "    y_labels=phik_overview.index,\n",
    "    vmin=0, vmax=1, color_map='Greens',\n",
    "    title=r'correlation $\\phi_K$',\n",
    "    fontsize_factor=1.5,\n",
    "    figsize=(20, 15)\n",
    ") "
   ]
  },
  {
   "cell_type": "markdown",
   "metadata": {},
   "source": [
    "Обнаружена мультиколлениарность в geo_data_1 между \"f2\" и \"product\", она может помешать обучению нашей модели, поэтому удаляем признак \"f2\""
   ]
  },
  {
   "cell_type": "code",
   "execution_count": 34,
   "metadata": {},
   "outputs": [],
   "source": [
    "# geo_data_1 = geo_data_1.drop([\"f2\"],axis = 1)"
   ]
  },
  {
   "cell_type": "markdown",
   "metadata": {},
   "source": [
    "Вывод к шагу 1:\n",
    "- данные выгружены, исследованы и подготовлены к дальнейшей работе"
   ]
  },
  {
   "cell_type": "markdown",
   "metadata": {},
   "source": [
    "## Обучение и проверка модели"
   ]
  },
  {
   "cell_type": "code",
   "execution_count": 35,
   "metadata": {},
   "outputs": [],
   "source": [
    "def func_model_lr(data):\n",
    "    RANDOM_STATE = 42\n",
    "    \n",
    "    X = data.drop(['id', 'product'], axis=1)\n",
    "    y = data['product']\n",
    "# разобьем данные на обучающую(X_train, y_train) и валидационную(X_test, y_test) выборки в соотношении 75:25\n",
    "    X_train, X_test, y_train, y_test = train_test_split(\n",
    "        X, \n",
    "        y, \n",
    "        test_size=0.25, \n",
    "        random_state=RANDOM_STATE\n",
    "    )\n",
    "    \n",
    "    scaler = StandardScaler()\n",
    "    X_train = scaler.fit_transform(X_train)\n",
    "    X_test = scaler.transform(X_test)\n",
    "\n",
    "# инициализация и обучение модели, получение предсказания\n",
    "    model_lr  = LinearRegression()\n",
    "    model_lr.fit(X_train, y_train)\n",
    "    predictions = model_lr.predict(X_test)\n",
    "    predictions = pd.Series(predictions)\n",
    "# получение значения RMSE\n",
    "    rmse = mean_squared_error(y_test.reset_index(drop=True), predictions, squared=False)\n",
    "    \n",
    "# средний запас предсказанного сырья\n",
    "    predictions_mean = predictions.sum()/len(predictions)\n",
    "    \n",
    "# # вывод полученного значения RMSE, \"средний запас предсказанного сырья\", предсказаний, эталонных значений \n",
    "#     print(rmse)\n",
    "#     print(predictions_mean)\n",
    "#     print(predictions)\n",
    "#     print(y_test)\n",
    "\n",
    "# Возвращаем все значения которые требуют сохранения \n",
    "    return y_test.reset_index(drop=True), predictions, predictions_mean, rmse"
   ]
  },
  {
   "cell_type": "code",
   "execution_count": 36,
   "metadata": {},
   "outputs": [],
   "source": [
    "y_test_0, predictions_0, predictions_mean_0, rmse_0 = func_model_lr(geo_data_0)\n",
    "y_test_1, predictions_1, predictions_mean_1, rmse_1 = func_model_lr(geo_data_1)\n",
    "y_test_2, predictions_2, predictions_mean_2, rmse_2 = func_model_lr(geo_data_2)"
   ]
  },
  {
   "cell_type": "code",
   "execution_count": 37,
   "metadata": {},
   "outputs": [
    {
     "name": "stdout",
     "output_type": "stream",
     "text": [
      "Для региона 0 - средний запас предсказанного сырья: 92.39879990657768, полученное значения RMSE: 37.75660035026169\n",
      "Для региона 1 - средний запас предсказанного сырья: 68.7128780391376, полученное значения RMSE: 0.8902801001028846\n",
      "Для региона 2 - средний запас предсказанного сырья: 94.77102387765939, полученное значения RMSE: 40.145872311342174\n"
     ]
    }
   ],
   "source": [
    "print(f'Для региона 0 - средний запас предсказанного сырья: {predictions_mean_0}, полученное значения RMSE: {rmse_0}')\n",
    "print(f'Для региона 1 - средний запас предсказанного сырья: {predictions_mean_1}, полученное значения RMSE: {rmse_1}')\n",
    "print(f'Для региона 2 - средний запас предсказанного сырья: {predictions_mean_2}, полученное значения RMSE: {rmse_2}')"
   ]
  },
  {
   "cell_type": "markdown",
   "metadata": {},
   "source": [
    "Вывод к шагу 2\n",
    "\n",
    "- То есть для региона 0 в среднем модель ошибается примерно на 38 тыс. баррелей - средний показатель из всех регионов, при этом средний запас предсказанного сырья: 92 тыс. баррелей\n",
    "\n",
    "- для региона 1 rmse модели составил меньше 1 тыс. баррелей, что является наилучшим результатом из всех, а средний запас предсказанного сырья: 69 тыс. баррелей\n",
    "\n",
    "- для региона 2 модель ошибается в среднем примерно на 40 тыс. баррелей, зато средний запас предсказанного сырья: 95 - самый большой обьем из всех"
   ]
  },
  {
   "cell_type": "markdown",
   "metadata": {},
   "source": [
    "## Подготовка к расчёту прибыли"
   ]
  },
  {
   "cell_type": "markdown",
   "metadata": {},
   "source": [
    "Введем все необходимые константы (по условию)\n",
    "\n",
    "Условия задачи:\n",
    "\n",
    "- При разведке региона исследуют 500 точек, из которых с помощью машинного обучения выбирают 200 лучших для разработки. \n",
    "- Бюджет на разработку скважин в регионе — 10 млрд рублей.\n",
    "- При нынешних ценах один баррель сырья приносит 450 рублей дохода. Доход с каждой единицы продукта составляет 450 тыс. рублей, поскольку объём указан в тысячах баррелей.\n",
    "- После оценки рисков нужно оставить лишь те регионы, в которых вероятность убытков меньше 2.5%. Среди них выбирают регион с наибольшей средней прибылью."
   ]
  },
  {
   "cell_type": "code",
   "execution_count": 38,
   "metadata": {},
   "outputs": [],
   "source": [
    "ALL_POINTS = 500\n",
    "BEST_POINTS = 200\n",
    "BUDGET = 10000000000\n",
    "BARREL = 450\n",
    "PER_UNIT_OF_PRODUCT = 450000\n",
    "PROBABILITY_TRESHHOLD= 0.025"
   ]
  },
  {
   "cell_type": "code",
   "execution_count": 39,
   "metadata": {},
   "outputs": [
    {
     "name": "stdout",
     "output_type": "stream",
     "text": [
      "Достаточный объём сырья для безубыточной разработки новой скважины: 111.111 единицы продукта\n"
     ]
    }
   ],
   "source": [
    "# достаточный объём сырья для безубыточной разработки новой скважины\n",
    "volume_of_raw = BUDGET/BEST_POINTS/PER_UNIT_OF_PRODUCT \n",
    "print(f'Достаточный объём сырья для безубыточной разработки новой скважины: {round(volume_of_raw,3)} единицы продукта' )"
   ]
  },
  {
   "cell_type": "markdown",
   "metadata": {},
   "source": [
    "Вывод к шагу 3\n",
    "\n",
    "- К сожалению, во всех трех регионах средний запас предсказанного сырья меньше чем Достаточный объём сырья для безубыточной разработки новой скважины, следовательно есть вероятность того что не все скважины будут безубыточные."
   ]
  },
  {
   "cell_type": "markdown",
   "metadata": {},
   "source": [
    "## Расчёт прибыли и рисков "
   ]
  },
  {
   "cell_type": "markdown",
   "metadata": {},
   "source": [
    "### Напишем функцию для расчёта прибыли по выбранным скважинам и предсказаниям модели"
   ]
  },
  {
   "cell_type": "markdown",
   "metadata": {},
   "source": [
    "Алгоритм написания функции был представлен в условии задачи, будем пользоваться им: \n",
    "\n",
    "- Выберите скважины с максимальными значениями предсказаний. \n",
    "- Просуммируйте целевое значение объёма сырья, соответствующее этим предсказаниям.\n",
    "- Рассчитайте прибыль для полученного объёма сырья."
   ]
  },
  {
   "cell_type": "code",
   "execution_count": 40,
   "metadata": {},
   "outputs": [],
   "source": [
    "# функция для расчета прибыли на 500 разведанных точек.\n",
    "def profit(y_test, pred, count):\n",
    "    # сортируем вероятности по убыванию\n",
    "    preds_sorted = pred.sort_values(ascending=False)\n",
    "    selected = y_test[preds_sorted.index][:count]\n",
    "    return PER_UNIT_OF_PRODUCT * selected.sum() - BUDGET"
   ]
  },
  {
   "cell_type": "code",
   "execution_count": 41,
   "metadata": {},
   "outputs": [
    {
     "name": "stdout",
     "output_type": "stream",
     "text": [
      "Прибыль по выбранным скважинам и предсказаниям модели региона 0 = 3359141114.46 руб\n",
      "Прибыль по выбранным скважинам и предсказаниям модели региона 1 = 2415086696.68 руб\n",
      "Прибыль по выбранным скважинам и предсказаниям модели региона 2 = 2598571759.37 руб\n"
     ]
    }
   ],
   "source": [
    "profit_0 = profit(y_test_0, predictions_0, 200)\n",
    "print('Прибыль по выбранным скважинам и предсказаниям модели региона 0 = {:.2f} руб'.format(profit_0))\n",
    "profit_1 = profit(y_test_1, predictions_1, 200)\n",
    "print('Прибыль по выбранным скважинам и предсказаниям модели региона 1 = {:.2f} руб'.format(profit_1))\n",
    "profit_2 = profit(y_test_2, predictions_2, 200)\n",
    "print('Прибыль по выбранным скважинам и предсказаниям модели региона 2 = {:.2f} руб'.format(profit_2))"
   ]
  },
  {
   "cell_type": "markdown",
   "metadata": {},
   "source": [
    "Наибольшая прибыль у региона 0 = 3359141114.46 руб"
   ]
  },
  {
   "cell_type": "markdown",
   "metadata": {},
   "source": [
    "Посчитаем риски и прибыль для каждого региона по условию:\n",
    "\n",
    " - 5.1. Примените технику Bootstrap с 1000 выборок, чтобы найти распределение прибыли.\n",
    " - 5.2. Найдите среднюю прибыль, 95%-й доверительный интервал и риск убытков. Убыток — это отрицательная прибыль.\n",
    " - 5.3. Напишите выводы: предложите регион для разработки скважин и обоснуйте выбор."
   ]
  },
  {
   "cell_type": "code",
   "execution_count": 42,
   "metadata": {},
   "outputs": [],
   "source": [
    "random_state = np.random.RandomState(12345)\n",
    "\n",
    "def bootstrap_analysis(target_values, predicted_values):\n",
    "    results = []\n",
    "    num_losses = 0\n",
    "    \n",
    "    for _ in range(1000):\n",
    "        sampled_target = target_values.sample(replace=True, random_state=random_state, n=500)\n",
    "        sampled_preds = predicted_values[sampled_target.index]\n",
    "        profit_value = profit(target_values, sampled_preds, 200)\n",
    "        \n",
    "        if profit_value < 0:\n",
    "            num_losses += 1\n",
    "            \n",
    "        results.append(profit_value)\n",
    "    \n",
    "    results_series = pd.Series(results)\n",
    "    lower_bound = results_series.quantile(0.025)\n",
    "    upper_bound = results_series.quantile(0.975)\n",
    "    mean_profit = results_series.mean()\n",
    "    risk_percentage = num_losses / 1000\n",
    "    \n",
    "    return mean_profit, lower_bound, upper_bound, risk_percentage"
   ]
  },
  {
   "cell_type": "code",
   "execution_count": 43,
   "metadata": {},
   "outputs": [
    {
     "name": "stdout",
     "output_type": "stream",
     "text": [
      "Результаты анализа для региона 0:\n",
      "Средняя прибыль составляет 406278.78 тыс. руб.\n",
      "95%-ный доверительный интервал: от -117742136.49 до 911737050.75 тыс. руб.\n",
      "Вероятность убытков: 6.70%\n"
     ]
    }
   ],
   "source": [
    "avg_profit_region_0, conf_interval_lower_0, conf_interval_upper_0, loss_percentage_0 = bootstrap_analysis(y_test_0, predictions_0)\n",
    "\n",
    "# Вывод результатов для региона 0\n",
    "print('Результаты анализа для региона 0:')\n",
    "print('Средняя прибыль составляет {:.2f} тыс. руб.'.format(avg_profit_region_0 / 1000))\n",
    "print('95%-ный доверительный интервал: от {:.2f} до {:.2f} тыс. руб.'.format(conf_interval_lower_0, conf_interval_upper_0))\n",
    "print('Вероятность убытков: {:.2%}'.format(loss_percentage_0))"
   ]
  },
  {
   "cell_type": "code",
   "execution_count": 44,
   "metadata": {},
   "outputs": [
    {
     "name": "stdout",
     "output_type": "stream",
     "text": [
      "Результаты анализа для региона 1:\n",
      "Средняя прибыль составляет 441504.28 тыс. руб.\n",
      "95%-ный доверительный интервал: от 35728489.28 до 828006639.00 тыс. руб.\n",
      "Вероятность убытков: 1.60%\n"
     ]
    }
   ],
   "source": [
    "avg_profit_region_1, conf_interval_lower_1, conf_interval_upper_1, loss_percentage_1 = bootstrap_analysis(y_test_1, predictions_1)\n",
    "\n",
    "# Вывод результатов для региона 0\n",
    "print('Результаты анализа для региона 1:')\n",
    "print('Средняя прибыль составляет {:.2f} тыс. руб.'.format(avg_profit_region_1 / 1000))\n",
    "print('95%-ный доверительный интервал: от {:.2f} до {:.2f} тыс. руб.'.format(conf_interval_lower_1, conf_interval_upper_1))\n",
    "print('Вероятность убытков: {:.2%}'.format(loss_percentage_1))"
   ]
  },
  {
   "cell_type": "code",
   "execution_count": 45,
   "metadata": {},
   "outputs": [
    {
     "name": "stdout",
     "output_type": "stream",
     "text": [
      "Результаты анализа для региона 2:\n",
      "Средняя прибыль составляет 385213.20 тыс. руб.\n",
      "95%-ный доверительный интервал: от -164785166.11 до 888206234.20 тыс. руб.\n",
      "Вероятность убытков: 7.80%\n"
     ]
    }
   ],
   "source": [
    "avg_profit_region_2, conf_interval_lower_2, conf_interval_upper_2, loss_percentage_2 = bootstrap_analysis(y_test_2, predictions_2)\n",
    "\n",
    "# Вывод результатов для региона 0\n",
    "print('Результаты анализа для региона 2:')\n",
    "print('Средняя прибыль составляет {:.2f} тыс. руб.'.format(avg_profit_region_2 / 1000))\n",
    "print('95%-ный доверительный интервал: от {:.2f} до {:.2f} тыс. руб.'.format(conf_interval_lower_2, conf_interval_upper_2))\n",
    "print('Вероятность убытков: {:.2%}'.format(loss_percentage_2))"
   ]
  },
  {
   "cell_type": "markdown",
   "metadata": {},
   "source": [
    "Вывод к шагу 4:\n",
    "\n",
    "- Был произведен расчёт прибыли по выбранным скважинам и предсказаниям модели, регион с потенциально наибольшей прибылью - регион 1(Средняя прибыль составляет 441504.28 тыс. руб)\n",
    "\n",
    "- Также были подсчитаны риски и прибыль для каждого региона\n",
    "\n",
    "По полученным данным были сделаны следующий вывод регион с меньшими убытками и риском, и с наибольшей потенциальной прибылью - РЕГИОН 1 с следующими оценками:\n",
    "\n",
    "Результаты анализа для региона 1:\n",
    "- Средняя прибыль составляет 441504.28 тыс. руб.\n",
    "- 95%-ный доверительный интервал: от 35728489.28 до 828006639.00 тыс. руб.\n",
    "- Вероятность убытков: 1.60%\n",
    "\n",
    "ПОЭТОМУ ДЛЯ выбора региона для разработки скважин подходит регион 1, так как данный регион имеет наименьший риск и с потенциально наибольшую прибыль. "
   ]
  },
  {
   "cell_type": "markdown",
   "metadata": {},
   "source": [
    "## Чек-лист готовности проекта"
   ]
  },
  {
   "cell_type": "markdown",
   "metadata": {},
   "source": [
    "Поставьте 'x' в выполненных пунктах. Далее нажмите Shift+Enter."
   ]
  },
  {
   "cell_type": "markdown",
   "metadata": {},
   "source": [
    "- [x]  Jupyter Notebook открыт\n",
    "- [x]  Весь код выполняется без ошибок\n",
    "- [x]  Ячейки с кодом расположены в порядке исполнения\n",
    "- [x]  Выполнен шаг 1: данные подготовлены\n",
    "- [x]  Выполнен шаг 2: модели обучены и проверены\n",
    "    - [x]  Данные корректно разбиты на обучающую и валидационную выборки\n",
    "    - [x]  Модели обучены, предсказания сделаны\n",
    "    - [x]  Предсказания и правильные ответы на валидационной выборке сохранены\n",
    "    - [x]  На экране напечатаны результаты\n",
    "    - [x]  Сделаны выводы\n",
    "- [x]  Выполнен шаг 3: проведена подготовка к расчёту прибыли\n",
    "    - [x]  Для всех ключевых значений созданы константы Python\n",
    "    - [x]  Посчитано минимальное среднее количество продукта в месторождениях региона, достаточное для разработки\n",
    "    - [x]  По предыдущему пункту сделаны выводы\n",
    "    - [x]  Написана функция расчёта прибыли\n",
    "- [x]  Выполнен шаг 4: посчитаны риски и прибыль\n",
    "    - [x]  Проведена процедура *Bootstrap*\n",
    "    - [x]  Все параметры бутстрепа соответствуют условию\n",
    "    - [x]  Найдены все нужные величины\n",
    "    - [x]  Предложен регион для разработки месторождения\n",
    "    - [x]  Выбор региона обоснован"
   ]
  },
  {
   "cell_type": "markdown",
   "metadata": {},
   "source": [
    "## Общий вывод"
   ]
  },
  {
   "cell_type": "markdown",
   "metadata": {},
   "source": [
    "В данном проекте была поставлена задача построить модель машинного обучения, которая поможет определить регион, где добыча принесёт наибольшую прибыль. Для этого были проделаны следующие шаги:\n",
    "\n",
    "1) Загрузка и подготовка данных - была осуществлена выгрузка, анализ и предобработка данных, проведены исследовательский и корреляционные анализы\n",
    "\n",
    "2) Обучена и проверена модель для каждого региона\n",
    "\n",
    "3)  Рассчитан достаточный объём сырья для безубыточной разработки новой скважины и сделан вывод о том, что К сожалению, во всех трех регионах средний запас предсказанного сырья меньше чем Достаточный объём сырья для безубыточной разработки новой скважины, следовательно есть вероятность того что не все скважины будут безубыточные.\n",
    "\n",
    "4) Были рассчитаны прибыль и риски для каждого из регионов и сделаны выводы о том что регион с наименьшим риском это регион 1\n",
    "\n",
    "Следовательно,  предложенный регион для разработки скважин - РЕГИОН 1"
   ]
  }
 ],
 "metadata": {
  "ExecuteTimeLog": [
   {
    "duration": 3249,
    "start_time": "2024-08-22T09:39:28.753Z"
   },
   {
    "duration": 3972,
    "start_time": "2024-08-22T09:39:32.005Z"
   },
   {
    "duration": 6650,
    "start_time": "2024-08-22T09:39:35.979Z"
   },
   {
    "duration": 1962,
    "start_time": "2024-08-22T09:39:42.631Z"
   },
   {
    "duration": 1841,
    "start_time": "2024-08-22T09:39:44.595Z"
   },
   {
    "duration": 5,
    "start_time": "2024-08-22T09:39:46.438Z"
   },
   {
    "duration": 139,
    "start_time": "2024-08-22T09:39:46.444Z"
   },
   {
    "duration": 109,
    "start_time": "2024-08-22T09:39:46.585Z"
   },
   {
    "duration": 120,
    "start_time": "2024-08-22T09:39:46.696Z"
   },
   {
    "duration": 2774,
    "start_time": "2024-08-22T10:30:01.801Z"
   },
   {
    "duration": 2689,
    "start_time": "2024-08-22T10:30:04.578Z"
   },
   {
    "duration": 4644,
    "start_time": "2024-08-22T10:30:07.269Z"
   },
   {
    "duration": 1844,
    "start_time": "2024-08-22T10:30:11.916Z"
   },
   {
    "duration": 488,
    "start_time": "2024-08-22T10:30:13.762Z"
   },
   {
    "duration": 13,
    "start_time": "2024-08-22T10:30:14.252Z"
   },
   {
    "duration": 130,
    "start_time": "2024-08-22T10:30:14.267Z"
   },
   {
    "duration": 127,
    "start_time": "2024-08-22T10:30:14.399Z"
   },
   {
    "duration": 146,
    "start_time": "2024-08-22T10:30:14.528Z"
   },
   {
    "duration": 3,
    "start_time": "2024-08-22T10:30:14.676Z"
   },
   {
    "duration": 552,
    "start_time": "2024-08-22T10:30:14.681Z"
   },
   {
    "duration": 536,
    "start_time": "2024-08-22T10:30:15.234Z"
   },
   {
    "duration": 552,
    "start_time": "2024-08-22T10:30:15.773Z"
   },
   {
    "duration": 3,
    "start_time": "2024-08-22T10:30:16.327Z"
   },
   {
    "duration": 161,
    "start_time": "2024-08-22T10:30:16.332Z"
   },
   {
    "duration": 0,
    "start_time": "2024-08-22T10:30:16.495Z"
   },
   {
    "duration": 0,
    "start_time": "2024-08-22T10:30:16.496Z"
   },
   {
    "duration": 1,
    "start_time": "2024-08-22T10:30:16.496Z"
   },
   {
    "duration": 0,
    "start_time": "2024-08-22T10:30:16.498Z"
   },
   {
    "duration": 0,
    "start_time": "2024-08-22T10:30:16.499Z"
   },
   {
    "duration": 0,
    "start_time": "2024-08-22T10:30:16.500Z"
   },
   {
    "duration": 0,
    "start_time": "2024-08-22T10:30:16.501Z"
   },
   {
    "duration": 0,
    "start_time": "2024-08-22T10:30:16.502Z"
   },
   {
    "duration": 0,
    "start_time": "2024-08-22T10:30:16.503Z"
   },
   {
    "duration": 0,
    "start_time": "2024-08-22T10:30:16.503Z"
   },
   {
    "duration": 0,
    "start_time": "2024-08-22T10:30:16.504Z"
   },
   {
    "duration": 202,
    "start_time": "2024-08-22T10:35:45.030Z"
   },
   {
    "duration": 79,
    "start_time": "2024-08-22T10:35:45.903Z"
   },
   {
    "duration": 93,
    "start_time": "2024-08-22T10:35:46.455Z"
   },
   {
    "duration": 97,
    "start_time": "2024-08-22T10:35:47.096Z"
   },
   {
    "duration": 94,
    "start_time": "2024-08-22T10:35:47.783Z"
   },
   {
    "duration": 83,
    "start_time": "2024-08-22T10:35:48.353Z"
   },
   {
    "duration": 82,
    "start_time": "2024-08-22T10:35:48.886Z"
   },
   {
    "duration": 97,
    "start_time": "2024-08-22T10:35:49.456Z"
   },
   {
    "duration": 101,
    "start_time": "2024-08-22T10:35:50.007Z"
   },
   {
    "duration": 97,
    "start_time": "2024-08-22T10:35:50.479Z"
   },
   {
    "duration": 87,
    "start_time": "2024-08-22T10:35:51.055Z"
   },
   {
    "duration": 97,
    "start_time": "2024-08-22T10:35:52.449Z"
   },
   {
    "duration": 51,
    "start_time": "2024-08-24T08:37:40.744Z"
   },
   {
    "duration": 3527,
    "start_time": "2024-08-24T08:37:59.010Z"
   },
   {
    "duration": 4097,
    "start_time": "2024-08-24T08:38:02.539Z"
   },
   {
    "duration": 6501,
    "start_time": "2024-08-24T08:38:06.638Z"
   },
   {
    "duration": 1896,
    "start_time": "2024-08-24T08:38:13.142Z"
   },
   {
    "duration": 1922,
    "start_time": "2024-08-24T08:38:15.039Z"
   },
   {
    "duration": 5,
    "start_time": "2024-08-24T08:38:16.963Z"
   },
   {
    "duration": 129,
    "start_time": "2024-08-24T08:38:16.970Z"
   },
   {
    "duration": 146,
    "start_time": "2024-08-24T08:38:17.101Z"
   },
   {
    "duration": 152,
    "start_time": "2024-08-24T08:38:17.248Z"
   },
   {
    "duration": 3,
    "start_time": "2024-08-24T08:38:17.403Z"
   },
   {
    "duration": 527,
    "start_time": "2024-08-24T08:38:17.407Z"
   },
   {
    "duration": 506,
    "start_time": "2024-08-24T08:38:17.936Z"
   },
   {
    "duration": 496,
    "start_time": "2024-08-24T08:38:18.443Z"
   },
   {
    "duration": 3,
    "start_time": "2024-08-24T08:38:18.940Z"
   },
   {
    "duration": 219,
    "start_time": "2024-08-24T08:38:18.945Z"
   },
   {
    "duration": 105,
    "start_time": "2024-08-24T08:38:19.166Z"
   },
   {
    "duration": 96,
    "start_time": "2024-08-24T08:38:19.272Z"
   },
   {
    "duration": 115,
    "start_time": "2024-08-24T08:38:19.369Z"
   },
   {
    "duration": 95,
    "start_time": "2024-08-24T08:38:19.486Z"
   },
   {
    "duration": 95,
    "start_time": "2024-08-24T08:38:19.582Z"
   },
   {
    "duration": 99,
    "start_time": "2024-08-24T08:38:19.679Z"
   },
   {
    "duration": 103,
    "start_time": "2024-08-24T08:38:19.780Z"
   },
   {
    "duration": 102,
    "start_time": "2024-08-24T08:38:19.885Z"
   },
   {
    "duration": 103,
    "start_time": "2024-08-24T08:38:19.997Z"
   },
   {
    "duration": 95,
    "start_time": "2024-08-24T08:38:20.102Z"
   },
   {
    "duration": 110,
    "start_time": "2024-08-24T08:38:20.199Z"
   },
   {
    "duration": 8,
    "start_time": "2024-08-24T08:38:20.310Z"
   },
   {
    "duration": 10,
    "start_time": "2024-08-24T08:40:06.840Z"
   },
   {
    "duration": 14,
    "start_time": "2024-08-24T08:43:18.766Z"
   },
   {
    "duration": 16,
    "start_time": "2024-08-24T08:45:14.690Z"
   },
   {
    "duration": 22,
    "start_time": "2024-08-24T08:46:16.407Z"
   },
   {
    "duration": 314,
    "start_time": "2024-08-24T08:54:17.849Z"
   },
   {
    "duration": 581,
    "start_time": "2024-08-24T08:54:19.176Z"
   },
   {
    "duration": 311,
    "start_time": "2024-08-24T08:55:01.824Z"
   },
   {
    "duration": 455,
    "start_time": "2024-08-24T08:55:02.344Z"
   },
   {
    "duration": 302,
    "start_time": "2024-08-24T08:55:18.455Z"
   },
   {
    "duration": 596,
    "start_time": "2024-08-24T08:55:18.903Z"
   },
   {
    "duration": 6,
    "start_time": "2024-08-24T09:00:41.184Z"
   },
   {
    "duration": 147,
    "start_time": "2024-08-24T10:10:58.749Z"
   },
   {
    "duration": 2499,
    "start_time": "2024-08-24T10:11:23.912Z"
   },
   {
    "duration": 2577,
    "start_time": "2024-08-24T10:11:26.413Z"
   },
   {
    "duration": 3078,
    "start_time": "2024-08-24T10:11:28.992Z"
   },
   {
    "duration": 1796,
    "start_time": "2024-08-24T10:11:32.072Z"
   },
   {
    "duration": 457,
    "start_time": "2024-08-24T10:11:33.870Z"
   },
   {
    "duration": 5,
    "start_time": "2024-08-24T10:11:34.329Z"
   },
   {
    "duration": 145,
    "start_time": "2024-08-24T10:11:34.336Z"
   },
   {
    "duration": 141,
    "start_time": "2024-08-24T10:11:34.482Z"
   },
   {
    "duration": 134,
    "start_time": "2024-08-24T10:11:34.626Z"
   },
   {
    "duration": 4,
    "start_time": "2024-08-24T10:11:34.762Z"
   },
   {
    "duration": 531,
    "start_time": "2024-08-24T10:11:34.768Z"
   },
   {
    "duration": 510,
    "start_time": "2024-08-24T10:11:35.301Z"
   },
   {
    "duration": 528,
    "start_time": "2024-08-24T10:11:35.812Z"
   },
   {
    "duration": 3,
    "start_time": "2024-08-24T10:11:36.341Z"
   },
   {
    "duration": 227,
    "start_time": "2024-08-24T10:11:36.346Z"
   },
   {
    "duration": 93,
    "start_time": "2024-08-24T10:11:36.575Z"
   },
   {
    "duration": 102,
    "start_time": "2024-08-24T10:11:36.670Z"
   },
   {
    "duration": 107,
    "start_time": "2024-08-24T10:11:36.773Z"
   },
   {
    "duration": 100,
    "start_time": "2024-08-24T10:11:36.881Z"
   },
   {
    "duration": 100,
    "start_time": "2024-08-24T10:11:36.982Z"
   },
   {
    "duration": 99,
    "start_time": "2024-08-24T10:11:37.083Z"
   },
   {
    "duration": 106,
    "start_time": "2024-08-24T10:11:37.184Z"
   },
   {
    "duration": 108,
    "start_time": "2024-08-24T10:11:37.291Z"
   },
   {
    "duration": 122,
    "start_time": "2024-08-24T10:11:37.400Z"
   },
   {
    "duration": 105,
    "start_time": "2024-08-24T10:11:37.524Z"
   },
   {
    "duration": 110,
    "start_time": "2024-08-24T10:11:37.630Z"
   },
   {
    "duration": 22,
    "start_time": "2024-08-24T10:11:37.742Z"
   },
   {
    "duration": 318,
    "start_time": "2024-08-24T10:11:37.768Z"
   },
   {
    "duration": 566,
    "start_time": "2024-08-24T10:11:38.087Z"
   },
   {
    "duration": 319,
    "start_time": "2024-08-24T10:11:38.654Z"
   },
   {
    "duration": 471,
    "start_time": "2024-08-24T10:11:38.975Z"
   },
   {
    "duration": 305,
    "start_time": "2024-08-24T10:11:39.448Z"
   },
   {
    "duration": 550,
    "start_time": "2024-08-24T10:11:39.754Z"
   },
   {
    "duration": 6,
    "start_time": "2024-08-24T10:11:40.306Z"
   },
   {
    "duration": 6,
    "start_time": "2024-08-24T10:11:40.314Z"
   },
   {
    "duration": 382,
    "start_time": "2024-08-24T10:11:40.322Z"
   },
   {
    "duration": 5,
    "start_time": "2024-08-24T10:11:40.707Z"
   },
   {
    "duration": 70,
    "start_time": "2024-08-24T10:48:42.597Z"
   },
   {
    "duration": 3,
    "start_time": "2024-08-24T11:08:40.352Z"
   },
   {
    "duration": 3,
    "start_time": "2024-08-24T11:08:40.728Z"
   },
   {
    "duration": 3,
    "start_time": "2024-08-24T11:11:33.784Z"
   },
   {
    "duration": 3,
    "start_time": "2024-08-24T11:11:43.833Z"
   },
   {
    "duration": 3,
    "start_time": "2024-08-24T11:12:11.376Z"
   },
   {
    "duration": 3,
    "start_time": "2024-08-24T11:13:06.897Z"
   },
   {
    "duration": 4,
    "start_time": "2024-08-24T11:14:39.033Z"
   },
   {
    "duration": 4,
    "start_time": "2024-08-24T11:15:22.415Z"
   },
   {
    "duration": 3,
    "start_time": "2024-08-24T11:15:24.545Z"
   },
   {
    "duration": 3,
    "start_time": "2024-08-24T11:15:25.002Z"
   },
   {
    "duration": 4,
    "start_time": "2024-08-24T11:16:05.873Z"
   },
   {
    "duration": 4,
    "start_time": "2024-08-24T11:16:36.970Z"
   },
   {
    "duration": 4,
    "start_time": "2024-08-24T11:16:46.433Z"
   },
   {
    "duration": 4,
    "start_time": "2024-08-24T11:16:55.672Z"
   },
   {
    "duration": 4,
    "start_time": "2024-08-24T11:19:41.920Z"
   },
   {
    "duration": 3,
    "start_time": "2024-08-24T11:24:39.098Z"
   },
   {
    "duration": 4,
    "start_time": "2024-08-24T11:26:07.139Z"
   },
   {
    "duration": 3,
    "start_time": "2024-08-24T11:27:12.491Z"
   },
   {
    "duration": 4,
    "start_time": "2024-08-24T11:28:34.971Z"
   },
   {
    "duration": 146,
    "start_time": "2024-08-24T11:30:38.093Z"
   },
   {
    "duration": 3,
    "start_time": "2024-08-24T11:30:41.108Z"
   },
   {
    "duration": 3,
    "start_time": "2024-08-24T11:30:41.427Z"
   },
   {
    "duration": 47,
    "start_time": "2024-08-24T11:33:06.163Z"
   },
   {
    "duration": 2575,
    "start_time": "2024-08-24T11:35:57.045Z"
   },
   {
    "duration": 2550,
    "start_time": "2024-08-24T11:35:59.623Z"
   },
   {
    "duration": 3099,
    "start_time": "2024-08-24T11:36:02.175Z"
   },
   {
    "duration": 1872,
    "start_time": "2024-08-24T11:36:05.278Z"
   },
   {
    "duration": 451,
    "start_time": "2024-08-24T11:36:07.151Z"
   },
   {
    "duration": 6,
    "start_time": "2024-08-24T11:36:07.604Z"
   },
   {
    "duration": 141,
    "start_time": "2024-08-24T11:36:07.611Z"
   },
   {
    "duration": 129,
    "start_time": "2024-08-24T11:36:07.754Z"
   },
   {
    "duration": 138,
    "start_time": "2024-08-24T11:36:07.885Z"
   },
   {
    "duration": 2,
    "start_time": "2024-08-24T11:36:08.026Z"
   },
   {
    "duration": 559,
    "start_time": "2024-08-24T11:36:08.030Z"
   },
   {
    "duration": 559,
    "start_time": "2024-08-24T11:36:08.591Z"
   },
   {
    "duration": 531,
    "start_time": "2024-08-24T11:36:09.153Z"
   },
   {
    "duration": 4,
    "start_time": "2024-08-24T11:36:09.686Z"
   },
   {
    "duration": 292,
    "start_time": "2024-08-24T11:36:09.698Z"
   },
   {
    "duration": 85,
    "start_time": "2024-08-24T11:36:09.997Z"
   },
   {
    "duration": 106,
    "start_time": "2024-08-24T11:36:10.098Z"
   },
   {
    "duration": 134,
    "start_time": "2024-08-24T11:36:10.206Z"
   },
   {
    "duration": 108,
    "start_time": "2024-08-24T11:36:10.341Z"
   },
   {
    "duration": 93,
    "start_time": "2024-08-24T11:36:10.451Z"
   },
   {
    "duration": 93,
    "start_time": "2024-08-24T11:36:10.545Z"
   },
   {
    "duration": 175,
    "start_time": "2024-08-24T11:36:10.639Z"
   },
   {
    "duration": 115,
    "start_time": "2024-08-24T11:36:10.815Z"
   },
   {
    "duration": 106,
    "start_time": "2024-08-24T11:36:10.932Z"
   },
   {
    "duration": 108,
    "start_time": "2024-08-24T11:36:11.040Z"
   },
   {
    "duration": 108,
    "start_time": "2024-08-24T11:36:11.150Z"
   },
   {
    "duration": 22,
    "start_time": "2024-08-24T11:36:11.259Z"
   },
   {
    "duration": 322,
    "start_time": "2024-08-24T11:36:11.284Z"
   },
   {
    "duration": 597,
    "start_time": "2024-08-24T11:36:11.608Z"
   },
   {
    "duration": 324,
    "start_time": "2024-08-24T11:36:12.207Z"
   },
   {
    "duration": 469,
    "start_time": "2024-08-24T11:36:12.533Z"
   },
   {
    "duration": 320,
    "start_time": "2024-08-24T11:36:13.003Z"
   },
   {
    "duration": 584,
    "start_time": "2024-08-24T11:36:13.325Z"
   },
   {
    "duration": 6,
    "start_time": "2024-08-24T11:36:13.911Z"
   },
   {
    "duration": 40,
    "start_time": "2024-08-24T11:36:13.919Z"
   },
   {
    "duration": 350,
    "start_time": "2024-08-24T11:36:13.960Z"
   },
   {
    "duration": 6,
    "start_time": "2024-08-24T11:36:14.312Z"
   },
   {
    "duration": 102,
    "start_time": "2024-08-24T11:36:14.400Z"
   },
   {
    "duration": 10,
    "start_time": "2024-08-24T11:36:14.504Z"
   },
   {
    "duration": 50,
    "start_time": "2024-08-24T11:59:03.632Z"
   },
   {
    "duration": 2503,
    "start_time": "2024-08-24T11:59:10.737Z"
   },
   {
    "duration": 2477,
    "start_time": "2024-08-24T11:59:13.243Z"
   },
   {
    "duration": 3042,
    "start_time": "2024-08-24T11:59:15.722Z"
   },
   {
    "duration": 1770,
    "start_time": "2024-08-24T11:59:18.766Z"
   },
   {
    "duration": 446,
    "start_time": "2024-08-24T11:59:20.538Z"
   },
   {
    "duration": 4,
    "start_time": "2024-08-24T11:59:20.986Z"
   },
   {
    "duration": 138,
    "start_time": "2024-08-24T11:59:20.998Z"
   },
   {
    "duration": 127,
    "start_time": "2024-08-24T11:59:21.139Z"
   },
   {
    "duration": 142,
    "start_time": "2024-08-24T11:59:21.267Z"
   },
   {
    "duration": 4,
    "start_time": "2024-08-24T11:59:21.411Z"
   },
   {
    "duration": 521,
    "start_time": "2024-08-24T11:59:21.417Z"
   },
   {
    "duration": 500,
    "start_time": "2024-08-24T11:59:21.940Z"
   },
   {
    "duration": 515,
    "start_time": "2024-08-24T11:59:22.442Z"
   },
   {
    "duration": 2,
    "start_time": "2024-08-24T11:59:22.959Z"
   },
   {
    "duration": 220,
    "start_time": "2024-08-24T11:59:22.963Z"
   },
   {
    "duration": 96,
    "start_time": "2024-08-24T11:59:23.185Z"
   },
   {
    "duration": 103,
    "start_time": "2024-08-24T11:59:23.283Z"
   },
   {
    "duration": 106,
    "start_time": "2024-08-24T11:59:23.387Z"
   },
   {
    "duration": 101,
    "start_time": "2024-08-24T11:59:23.497Z"
   },
   {
    "duration": 100,
    "start_time": "2024-08-24T11:59:23.600Z"
   },
   {
    "duration": 97,
    "start_time": "2024-08-24T11:59:23.702Z"
   },
   {
    "duration": 108,
    "start_time": "2024-08-24T11:59:23.801Z"
   },
   {
    "duration": 108,
    "start_time": "2024-08-24T11:59:23.911Z"
   },
   {
    "duration": 107,
    "start_time": "2024-08-24T11:59:24.021Z"
   },
   {
    "duration": 112,
    "start_time": "2024-08-24T11:59:24.130Z"
   },
   {
    "duration": 108,
    "start_time": "2024-08-24T11:59:24.244Z"
   },
   {
    "duration": 23,
    "start_time": "2024-08-24T11:59:24.354Z"
   },
   {
    "duration": 303,
    "start_time": "2024-08-24T11:59:24.398Z"
   },
   {
    "duration": 571,
    "start_time": "2024-08-24T11:59:24.703Z"
   },
   {
    "duration": 313,
    "start_time": "2024-08-24T11:59:25.276Z"
   },
   {
    "duration": 460,
    "start_time": "2024-08-24T11:59:25.590Z"
   },
   {
    "duration": 307,
    "start_time": "2024-08-24T11:59:26.052Z"
   },
   {
    "duration": 558,
    "start_time": "2024-08-24T11:59:26.360Z"
   },
   {
    "duration": 6,
    "start_time": "2024-08-24T11:59:26.920Z"
   },
   {
    "duration": 21,
    "start_time": "2024-08-24T11:59:26.928Z"
   },
   {
    "duration": 358,
    "start_time": "2024-08-24T11:59:26.951Z"
   },
   {
    "duration": 86,
    "start_time": "2024-08-24T11:59:27.311Z"
   },
   {
    "duration": 94,
    "start_time": "2024-08-24T11:59:27.404Z"
   },
   {
    "duration": 3,
    "start_time": "2024-08-24T11:59:27.501Z"
   },
   {
    "duration": 46,
    "start_time": "2024-08-24T11:59:27.506Z"
   },
   {
    "duration": 3,
    "start_time": "2024-08-24T11:59:41.565Z"
   },
   {
    "duration": 4,
    "start_time": "2024-08-24T12:11:29.420Z"
   },
   {
    "duration": 4,
    "start_time": "2024-08-24T12:12:41.804Z"
   },
   {
    "duration": 145,
    "start_time": "2024-08-24T12:12:42.467Z"
   },
   {
    "duration": 5,
    "start_time": "2024-08-24T12:35:47.939Z"
   },
   {
    "duration": 4,
    "start_time": "2024-08-24T12:35:58.295Z"
   },
   {
    "duration": 8,
    "start_time": "2024-08-24T12:36:00.823Z"
   },
   {
    "duration": 3,
    "start_time": "2024-08-24T12:36:54.991Z"
   },
   {
    "duration": 9,
    "start_time": "2024-08-24T12:36:56.951Z"
   },
   {
    "duration": 5,
    "start_time": "2024-08-24T12:56:29.843Z"
   },
   {
    "duration": 21,
    "start_time": "2024-08-24T12:56:30.443Z"
   },
   {
    "duration": 2487,
    "start_time": "2024-08-24T12:58:04.138Z"
   },
   {
    "duration": 2553,
    "start_time": "2024-08-24T12:58:06.627Z"
   },
   {
    "duration": 3112,
    "start_time": "2024-08-24T12:58:09.182Z"
   },
   {
    "duration": 1886,
    "start_time": "2024-08-24T12:58:12.296Z"
   },
   {
    "duration": 470,
    "start_time": "2024-08-24T12:58:14.185Z"
   },
   {
    "duration": 4,
    "start_time": "2024-08-24T12:58:14.657Z"
   },
   {
    "duration": 143,
    "start_time": "2024-08-24T12:58:14.662Z"
   },
   {
    "duration": 138,
    "start_time": "2024-08-24T12:58:14.806Z"
   },
   {
    "duration": 137,
    "start_time": "2024-08-24T12:58:14.945Z"
   },
   {
    "duration": 3,
    "start_time": "2024-08-24T12:58:15.083Z"
   },
   {
    "duration": 561,
    "start_time": "2024-08-24T12:58:15.098Z"
   },
   {
    "duration": 512,
    "start_time": "2024-08-24T12:58:15.661Z"
   },
   {
    "duration": 517,
    "start_time": "2024-08-24T12:58:16.174Z"
   },
   {
    "duration": 5,
    "start_time": "2024-08-24T12:58:16.693Z"
   },
   {
    "duration": 220,
    "start_time": "2024-08-24T12:58:16.699Z"
   },
   {
    "duration": 123,
    "start_time": "2024-08-24T12:58:16.921Z"
   },
   {
    "duration": 106,
    "start_time": "2024-08-24T12:58:17.045Z"
   },
   {
    "duration": 109,
    "start_time": "2024-08-24T12:58:17.153Z"
   },
   {
    "duration": 101,
    "start_time": "2024-08-24T12:58:17.264Z"
   },
   {
    "duration": 98,
    "start_time": "2024-08-24T12:58:17.366Z"
   },
   {
    "duration": 99,
    "start_time": "2024-08-24T12:58:17.466Z"
   },
   {
    "duration": 107,
    "start_time": "2024-08-24T12:58:17.568Z"
   },
   {
    "duration": 117,
    "start_time": "2024-08-24T12:58:17.677Z"
   },
   {
    "duration": 108,
    "start_time": "2024-08-24T12:58:17.797Z"
   },
   {
    "duration": 97,
    "start_time": "2024-08-24T12:58:17.906Z"
   },
   {
    "duration": 106,
    "start_time": "2024-08-24T12:58:18.005Z"
   },
   {
    "duration": 23,
    "start_time": "2024-08-24T12:58:18.112Z"
   },
   {
    "duration": 343,
    "start_time": "2024-08-24T12:58:18.136Z"
   },
   {
    "duration": 543,
    "start_time": "2024-08-24T12:58:18.481Z"
   },
   {
    "duration": 316,
    "start_time": "2024-08-24T12:58:19.026Z"
   },
   {
    "duration": 462,
    "start_time": "2024-08-24T12:58:19.343Z"
   },
   {
    "duration": 294,
    "start_time": "2024-08-24T12:58:19.806Z"
   },
   {
    "duration": 588,
    "start_time": "2024-08-24T12:58:20.102Z"
   },
   {
    "duration": 9,
    "start_time": "2024-08-24T12:58:20.692Z"
   },
   {
    "duration": 16,
    "start_time": "2024-08-24T12:58:20.703Z"
   },
   {
    "duration": 386,
    "start_time": "2024-08-24T12:58:20.721Z"
   },
   {
    "duration": 89,
    "start_time": "2024-08-24T12:58:21.109Z"
   },
   {
    "duration": 4,
    "start_time": "2024-08-24T12:58:21.200Z"
   },
   {
    "duration": 94,
    "start_time": "2024-08-24T12:58:21.206Z"
   },
   {
    "duration": 14,
    "start_time": "2024-08-24T12:58:21.301Z"
   },
   {
    "duration": 38,
    "start_time": "2024-08-24T12:58:21.318Z"
   },
   {
    "duration": 3,
    "start_time": "2024-08-24T13:01:50.711Z"
   },
   {
    "duration": 35,
    "start_time": "2024-08-24T13:01:52.278Z"
   },
   {
    "duration": 3,
    "start_time": "2024-08-24T13:02:17.654Z"
   },
   {
    "duration": 34,
    "start_time": "2024-08-24T13:02:18.054Z"
   },
   {
    "duration": 4,
    "start_time": "2024-08-24T13:02:50.774Z"
   },
   {
    "duration": 35,
    "start_time": "2024-08-24T13:02:50.982Z"
   },
   {
    "duration": 2546,
    "start_time": "2024-08-24T13:04:14.411Z"
   },
   {
    "duration": 2578,
    "start_time": "2024-08-24T13:04:16.959Z"
   },
   {
    "duration": 3090,
    "start_time": "2024-08-24T13:04:19.538Z"
   },
   {
    "duration": 1721,
    "start_time": "2024-08-24T13:04:22.630Z"
   },
   {
    "duration": 430,
    "start_time": "2024-08-24T13:04:24.353Z"
   },
   {
    "duration": 4,
    "start_time": "2024-08-24T13:04:24.784Z"
   },
   {
    "duration": 133,
    "start_time": "2024-08-24T13:04:24.790Z"
   },
   {
    "duration": 125,
    "start_time": "2024-08-24T13:04:24.924Z"
   },
   {
    "duration": 133,
    "start_time": "2024-08-24T13:04:25.051Z"
   },
   {
    "duration": 3,
    "start_time": "2024-08-24T13:04:25.185Z"
   },
   {
    "duration": 557,
    "start_time": "2024-08-24T13:04:25.197Z"
   },
   {
    "duration": 524,
    "start_time": "2024-08-24T13:04:25.756Z"
   },
   {
    "duration": 523,
    "start_time": "2024-08-24T13:04:26.282Z"
   },
   {
    "duration": 3,
    "start_time": "2024-08-24T13:04:26.809Z"
   },
   {
    "duration": 249,
    "start_time": "2024-08-24T13:04:26.813Z"
   },
   {
    "duration": 85,
    "start_time": "2024-08-24T13:04:27.064Z"
   },
   {
    "duration": 107,
    "start_time": "2024-08-24T13:04:27.151Z"
   },
   {
    "duration": 103,
    "start_time": "2024-08-24T13:04:27.260Z"
   },
   {
    "duration": 106,
    "start_time": "2024-08-24T13:04:27.365Z"
   },
   {
    "duration": 100,
    "start_time": "2024-08-24T13:04:27.473Z"
   },
   {
    "duration": 110,
    "start_time": "2024-08-24T13:04:27.575Z"
   },
   {
    "duration": 106,
    "start_time": "2024-08-24T13:04:27.686Z"
   },
   {
    "duration": 116,
    "start_time": "2024-08-24T13:04:27.793Z"
   },
   {
    "duration": 112,
    "start_time": "2024-08-24T13:04:27.911Z"
   },
   {
    "duration": 105,
    "start_time": "2024-08-24T13:04:28.025Z"
   },
   {
    "duration": 109,
    "start_time": "2024-08-24T13:04:28.131Z"
   },
   {
    "duration": 25,
    "start_time": "2024-08-24T13:04:28.241Z"
   },
   {
    "duration": 408,
    "start_time": "2024-08-24T13:04:28.268Z"
   },
   {
    "duration": 582,
    "start_time": "2024-08-24T13:04:28.678Z"
   },
   {
    "duration": 315,
    "start_time": "2024-08-24T13:04:29.262Z"
   },
   {
    "duration": 456,
    "start_time": "2024-08-24T13:04:29.578Z"
   },
   {
    "duration": 301,
    "start_time": "2024-08-24T13:04:30.036Z"
   },
   {
    "duration": 578,
    "start_time": "2024-08-24T13:04:30.338Z"
   },
   {
    "duration": 7,
    "start_time": "2024-08-24T13:04:30.917Z"
   },
   {
    "duration": 17,
    "start_time": "2024-08-24T13:04:30.925Z"
   },
   {
    "duration": 457,
    "start_time": "2024-08-24T13:04:30.944Z"
   },
   {
    "duration": 95,
    "start_time": "2024-08-24T13:04:31.403Z"
   },
   {
    "duration": 33,
    "start_time": "2024-08-24T13:04:31.500Z"
   },
   {
    "duration": 4,
    "start_time": "2024-08-24T13:04:31.535Z"
   },
   {
    "duration": 10,
    "start_time": "2024-08-24T13:04:31.540Z"
   },
   {
    "duration": 54,
    "start_time": "2024-08-24T13:04:31.553Z"
   },
   {
    "duration": 2685,
    "start_time": "2024-08-24T13:05:17.653Z"
   },
   {
    "duration": 2661,
    "start_time": "2024-08-24T13:05:20.341Z"
   },
   {
    "duration": 3277,
    "start_time": "2024-08-24T13:05:23.005Z"
   },
   {
    "duration": 1836,
    "start_time": "2024-08-24T13:05:26.285Z"
   },
   {
    "duration": 451,
    "start_time": "2024-08-24T13:05:28.123Z"
   },
   {
    "duration": 4,
    "start_time": "2024-08-24T13:05:28.576Z"
   },
   {
    "duration": 130,
    "start_time": "2024-08-24T13:05:28.582Z"
   },
   {
    "duration": 114,
    "start_time": "2024-08-24T13:05:28.714Z"
   },
   {
    "duration": 131,
    "start_time": "2024-08-24T13:05:28.830Z"
   },
   {
    "duration": 4,
    "start_time": "2024-08-24T13:05:28.963Z"
   },
   {
    "duration": 548,
    "start_time": "2024-08-24T13:05:28.968Z"
   },
   {
    "duration": 506,
    "start_time": "2024-08-24T13:05:29.518Z"
   },
   {
    "duration": 519,
    "start_time": "2024-08-24T13:05:30.026Z"
   },
   {
    "duration": 3,
    "start_time": "2024-08-24T13:05:30.546Z"
   },
   {
    "duration": 222,
    "start_time": "2024-08-24T13:05:30.551Z"
   },
   {
    "duration": 98,
    "start_time": "2024-08-24T13:05:30.775Z"
   },
   {
    "duration": 103,
    "start_time": "2024-08-24T13:05:30.875Z"
   },
   {
    "duration": 109,
    "start_time": "2024-08-24T13:05:30.980Z"
   },
   {
    "duration": 103,
    "start_time": "2024-08-24T13:05:31.090Z"
   },
   {
    "duration": 102,
    "start_time": "2024-08-24T13:05:31.198Z"
   },
   {
    "duration": 100,
    "start_time": "2024-08-24T13:05:31.301Z"
   },
   {
    "duration": 111,
    "start_time": "2024-08-24T13:05:31.403Z"
   },
   {
    "duration": 116,
    "start_time": "2024-08-24T13:05:31.515Z"
   },
   {
    "duration": 113,
    "start_time": "2024-08-24T13:05:31.633Z"
   },
   {
    "duration": 105,
    "start_time": "2024-08-24T13:05:31.748Z"
   },
   {
    "duration": 114,
    "start_time": "2024-08-24T13:05:31.855Z"
   },
   {
    "duration": 42,
    "start_time": "2024-08-24T13:05:31.970Z"
   },
   {
    "duration": 333,
    "start_time": "2024-08-24T13:05:32.016Z"
   },
   {
    "duration": 589,
    "start_time": "2024-08-24T13:05:32.351Z"
   },
   {
    "duration": 321,
    "start_time": "2024-08-24T13:05:32.941Z"
   },
   {
    "duration": 451,
    "start_time": "2024-08-24T13:05:33.264Z"
   },
   {
    "duration": 312,
    "start_time": "2024-08-24T13:05:33.716Z"
   },
   {
    "duration": 582,
    "start_time": "2024-08-24T13:05:34.030Z"
   },
   {
    "duration": 6,
    "start_time": "2024-08-24T13:05:34.613Z"
   },
   {
    "duration": 14,
    "start_time": "2024-08-24T13:05:34.621Z"
   },
   {
    "duration": 372,
    "start_time": "2024-08-24T13:05:34.637Z"
   },
   {
    "duration": 85,
    "start_time": "2024-08-24T13:05:35.012Z"
   },
   {
    "duration": 101,
    "start_time": "2024-08-24T13:05:35.100Z"
   },
   {
    "duration": 13,
    "start_time": "2024-08-24T13:05:35.203Z"
   },
   {
    "duration": 12,
    "start_time": "2024-08-24T13:05:35.218Z"
   },
   {
    "duration": 20,
    "start_time": "2024-08-24T13:05:35.232Z"
   },
   {
    "duration": 2701,
    "start_time": "2024-08-24T13:11:06.614Z"
   },
   {
    "duration": 2673,
    "start_time": "2024-08-24T13:11:09.318Z"
   },
   {
    "duration": 3182,
    "start_time": "2024-08-24T13:11:11.993Z"
   },
   {
    "duration": 1797,
    "start_time": "2024-08-24T13:11:15.178Z"
   },
   {
    "duration": 451,
    "start_time": "2024-08-24T13:11:16.977Z"
   },
   {
    "duration": 3,
    "start_time": "2024-08-24T13:11:17.430Z"
   },
   {
    "duration": 145,
    "start_time": "2024-08-24T13:11:17.435Z"
   },
   {
    "duration": 136,
    "start_time": "2024-08-24T13:11:17.581Z"
   },
   {
    "duration": 128,
    "start_time": "2024-08-24T13:11:17.718Z"
   },
   {
    "duration": 3,
    "start_time": "2024-08-24T13:11:17.849Z"
   },
   {
    "duration": 524,
    "start_time": "2024-08-24T13:11:17.853Z"
   },
   {
    "duration": 554,
    "start_time": "2024-08-24T13:11:18.379Z"
   },
   {
    "duration": 567,
    "start_time": "2024-08-24T13:11:18.934Z"
   },
   {
    "duration": 7,
    "start_time": "2024-08-24T13:11:19.502Z"
   },
   {
    "duration": 244,
    "start_time": "2024-08-24T13:11:19.511Z"
   },
   {
    "duration": 96,
    "start_time": "2024-08-24T13:11:19.757Z"
   },
   {
    "duration": 108,
    "start_time": "2024-08-24T13:11:19.855Z"
   },
   {
    "duration": 114,
    "start_time": "2024-08-24T13:11:19.965Z"
   },
   {
    "duration": 107,
    "start_time": "2024-08-24T13:11:20.081Z"
   },
   {
    "duration": 101,
    "start_time": "2024-08-24T13:11:20.189Z"
   },
   {
    "duration": 102,
    "start_time": "2024-08-24T13:11:20.292Z"
   },
   {
    "duration": 115,
    "start_time": "2024-08-24T13:11:20.397Z"
   },
   {
    "duration": 112,
    "start_time": "2024-08-24T13:11:20.513Z"
   },
   {
    "duration": 112,
    "start_time": "2024-08-24T13:11:20.627Z"
   },
   {
    "duration": 107,
    "start_time": "2024-08-24T13:11:20.741Z"
   },
   {
    "duration": 119,
    "start_time": "2024-08-24T13:11:20.850Z"
   },
   {
    "duration": 41,
    "start_time": "2024-08-24T13:11:20.971Z"
   },
   {
    "duration": 349,
    "start_time": "2024-08-24T13:11:21.015Z"
   },
   {
    "duration": 607,
    "start_time": "2024-08-24T13:11:21.366Z"
   },
   {
    "duration": 351,
    "start_time": "2024-08-24T13:11:21.975Z"
   },
   {
    "duration": 492,
    "start_time": "2024-08-24T13:11:22.328Z"
   },
   {
    "duration": 325,
    "start_time": "2024-08-24T13:11:22.822Z"
   },
   {
    "duration": 592,
    "start_time": "2024-08-24T13:11:23.149Z"
   },
   {
    "duration": 6,
    "start_time": "2024-08-24T13:11:23.743Z"
   },
   {
    "duration": 7,
    "start_time": "2024-08-24T13:11:23.750Z"
   },
   {
    "duration": 182,
    "start_time": "2024-08-24T13:11:23.758Z"
   },
   {
    "duration": 0,
    "start_time": "2024-08-24T13:11:23.942Z"
   },
   {
    "duration": 0,
    "start_time": "2024-08-24T13:11:23.943Z"
   },
   {
    "duration": 0,
    "start_time": "2024-08-24T13:11:23.944Z"
   },
   {
    "duration": 0,
    "start_time": "2024-08-24T13:11:23.945Z"
   },
   {
    "duration": 0,
    "start_time": "2024-08-24T13:11:23.946Z"
   },
   {
    "duration": 5,
    "start_time": "2024-08-24T13:11:33.814Z"
   },
   {
    "duration": 366,
    "start_time": "2024-08-24T13:11:35.551Z"
   },
   {
    "duration": 4,
    "start_time": "2024-08-24T13:11:37.456Z"
   },
   {
    "duration": 2,
    "start_time": "2024-08-24T13:11:47.742Z"
   },
   {
    "duration": 4,
    "start_time": "2024-08-24T13:11:48.329Z"
   },
   {
    "duration": 4,
    "start_time": "2024-08-24T13:11:53.446Z"
   },
   {
    "duration": 19,
    "start_time": "2024-08-24T13:11:54.327Z"
   },
   {
    "duration": 376,
    "start_time": "2024-08-24T13:13:54.336Z"
   },
   {
    "duration": 2732,
    "start_time": "2024-08-24T13:24:26.879Z"
   },
   {
    "duration": 2628,
    "start_time": "2024-08-24T13:24:29.614Z"
   },
   {
    "duration": 3189,
    "start_time": "2024-08-24T13:24:32.244Z"
   },
   {
    "duration": 1794,
    "start_time": "2024-08-24T13:24:35.436Z"
   },
   {
    "duration": 450,
    "start_time": "2024-08-24T13:24:37.231Z"
   },
   {
    "duration": 4,
    "start_time": "2024-08-24T13:24:37.682Z"
   },
   {
    "duration": 135,
    "start_time": "2024-08-24T13:24:37.688Z"
   },
   {
    "duration": 122,
    "start_time": "2024-08-24T13:24:37.824Z"
   },
   {
    "duration": 131,
    "start_time": "2024-08-24T13:24:37.947Z"
   },
   {
    "duration": 3,
    "start_time": "2024-08-24T13:24:38.080Z"
   },
   {
    "duration": 610,
    "start_time": "2024-08-24T13:24:38.084Z"
   },
   {
    "duration": 547,
    "start_time": "2024-08-24T13:24:38.697Z"
   },
   {
    "duration": 533,
    "start_time": "2024-08-24T13:24:39.248Z"
   },
   {
    "duration": 3,
    "start_time": "2024-08-24T13:24:39.783Z"
   },
   {
    "duration": 233,
    "start_time": "2024-08-24T13:24:39.788Z"
   },
   {
    "duration": 104,
    "start_time": "2024-08-24T13:24:40.023Z"
   },
   {
    "duration": 104,
    "start_time": "2024-08-24T13:24:40.128Z"
   },
   {
    "duration": 121,
    "start_time": "2024-08-24T13:24:40.234Z"
   },
   {
    "duration": 111,
    "start_time": "2024-08-24T13:24:40.357Z"
   },
   {
    "duration": 103,
    "start_time": "2024-08-24T13:24:40.469Z"
   },
   {
    "duration": 97,
    "start_time": "2024-08-24T13:24:40.573Z"
   },
   {
    "duration": 118,
    "start_time": "2024-08-24T13:24:40.671Z"
   },
   {
    "duration": 114,
    "start_time": "2024-08-24T13:24:40.791Z"
   },
   {
    "duration": 115,
    "start_time": "2024-08-24T13:24:40.912Z"
   },
   {
    "duration": 95,
    "start_time": "2024-08-24T13:24:41.028Z"
   },
   {
    "duration": 110,
    "start_time": "2024-08-24T13:24:41.125Z"
   },
   {
    "duration": 24,
    "start_time": "2024-08-24T13:24:41.237Z"
   },
   {
    "duration": 347,
    "start_time": "2024-08-24T13:24:41.264Z"
   },
   {
    "duration": 609,
    "start_time": "2024-08-24T13:24:41.613Z"
   },
   {
    "duration": 337,
    "start_time": "2024-08-24T13:24:42.224Z"
   },
   {
    "duration": 467,
    "start_time": "2024-08-24T13:24:42.562Z"
   },
   {
    "duration": 322,
    "start_time": "2024-08-24T13:24:43.031Z"
   },
   {
    "duration": 570,
    "start_time": "2024-08-24T13:24:43.355Z"
   },
   {
    "duration": 3,
    "start_time": "2024-08-24T13:24:43.926Z"
   },
   {
    "duration": 9,
    "start_time": "2024-08-24T13:24:43.930Z"
   },
   {
    "duration": 274,
    "start_time": "2024-08-24T13:24:43.941Z"
   },
   {
    "duration": 92,
    "start_time": "2024-08-24T13:24:44.217Z"
   },
   {
    "duration": 162,
    "start_time": "2024-08-24T13:24:44.312Z"
   },
   {
    "duration": 4,
    "start_time": "2024-08-24T13:24:44.476Z"
   },
   {
    "duration": 5,
    "start_time": "2024-08-24T13:24:44.481Z"
   },
   {
    "duration": 22,
    "start_time": "2024-08-24T13:24:44.487Z"
   },
   {
    "duration": 2624,
    "start_time": "2024-08-24T13:29:13.809Z"
   },
   {
    "duration": 2648,
    "start_time": "2024-08-24T13:29:16.436Z"
   },
   {
    "duration": 3169,
    "start_time": "2024-08-24T13:29:19.087Z"
   },
   {
    "duration": 1688,
    "start_time": "2024-08-24T13:29:22.259Z"
   },
   {
    "duration": 470,
    "start_time": "2024-08-24T13:29:23.949Z"
   },
   {
    "duration": 4,
    "start_time": "2024-08-24T13:29:24.420Z"
   },
   {
    "duration": 139,
    "start_time": "2024-08-24T13:29:24.425Z"
   },
   {
    "duration": 146,
    "start_time": "2024-08-24T13:29:24.566Z"
   },
   {
    "duration": 131,
    "start_time": "2024-08-24T13:29:24.714Z"
   },
   {
    "duration": 3,
    "start_time": "2024-08-24T13:29:24.848Z"
   },
   {
    "duration": 562,
    "start_time": "2024-08-24T13:29:24.852Z"
   },
   {
    "duration": 530,
    "start_time": "2024-08-24T13:29:25.416Z"
   },
   {
    "duration": 539,
    "start_time": "2024-08-24T13:29:25.948Z"
   },
   {
    "duration": 3,
    "start_time": "2024-08-24T13:29:26.489Z"
   },
   {
    "duration": 230,
    "start_time": "2024-08-24T13:29:26.503Z"
   },
   {
    "duration": 109,
    "start_time": "2024-08-24T13:29:26.735Z"
   },
   {
    "duration": 114,
    "start_time": "2024-08-24T13:29:26.846Z"
   },
   {
    "duration": 114,
    "start_time": "2024-08-24T13:29:26.961Z"
   },
   {
    "duration": 106,
    "start_time": "2024-08-24T13:29:27.076Z"
   },
   {
    "duration": 106,
    "start_time": "2024-08-24T13:29:27.183Z"
   },
   {
    "duration": 97,
    "start_time": "2024-08-24T13:29:27.291Z"
   },
   {
    "duration": 125,
    "start_time": "2024-08-24T13:29:27.390Z"
   },
   {
    "duration": 128,
    "start_time": "2024-08-24T13:29:27.520Z"
   },
   {
    "duration": 121,
    "start_time": "2024-08-24T13:29:27.650Z"
   },
   {
    "duration": 107,
    "start_time": "2024-08-24T13:29:27.773Z"
   },
   {
    "duration": 125,
    "start_time": "2024-08-24T13:29:27.882Z"
   },
   {
    "duration": 25,
    "start_time": "2024-08-24T13:29:28.011Z"
   },
   {
    "duration": 348,
    "start_time": "2024-08-24T13:29:28.040Z"
   },
   {
    "duration": 654,
    "start_time": "2024-08-24T13:29:28.390Z"
   },
   {
    "duration": 361,
    "start_time": "2024-08-24T13:29:29.045Z"
   },
   {
    "duration": 525,
    "start_time": "2024-08-24T13:29:29.408Z"
   },
   {
    "duration": 320,
    "start_time": "2024-08-24T13:29:29.935Z"
   },
   {
    "duration": 591,
    "start_time": "2024-08-24T13:29:30.257Z"
   },
   {
    "duration": 8,
    "start_time": "2024-08-24T13:29:30.850Z"
   },
   {
    "duration": 25,
    "start_time": "2024-08-24T13:29:30.859Z"
   },
   {
    "duration": 331,
    "start_time": "2024-08-24T13:29:30.886Z"
   },
   {
    "duration": 17,
    "start_time": "2024-08-24T13:29:31.297Z"
   },
   {
    "duration": 85,
    "start_time": "2024-08-24T13:29:31.316Z"
   },
   {
    "duration": 13,
    "start_time": "2024-08-24T13:29:31.403Z"
   },
   {
    "duration": 5,
    "start_time": "2024-08-24T13:29:31.418Z"
   },
   {
    "duration": 25,
    "start_time": "2024-08-24T13:29:31.424Z"
   },
   {
    "duration": 2519,
    "start_time": "2024-08-24T13:58:20.719Z"
   },
   {
    "duration": 2504,
    "start_time": "2024-08-24T13:58:23.240Z"
   },
   {
    "duration": 3104,
    "start_time": "2024-08-24T13:58:25.746Z"
   },
   {
    "duration": 1682,
    "start_time": "2024-08-24T13:58:28.852Z"
   },
   {
    "duration": 443,
    "start_time": "2024-08-24T13:58:30.536Z"
   },
   {
    "duration": 3,
    "start_time": "2024-08-24T13:58:30.981Z"
   },
   {
    "duration": 211,
    "start_time": "2024-08-24T13:58:30.986Z"
   },
   {
    "duration": 124,
    "start_time": "2024-08-24T13:58:31.199Z"
   },
   {
    "duration": 131,
    "start_time": "2024-08-24T13:58:31.324Z"
   },
   {
    "duration": 2,
    "start_time": "2024-08-24T13:58:31.457Z"
   },
   {
    "duration": 516,
    "start_time": "2024-08-24T13:58:31.461Z"
   },
   {
    "duration": 514,
    "start_time": "2024-08-24T13:58:31.979Z"
   },
   {
    "duration": 513,
    "start_time": "2024-08-24T13:58:32.498Z"
   },
   {
    "duration": 3,
    "start_time": "2024-08-24T13:58:33.014Z"
   },
   {
    "duration": 242,
    "start_time": "2024-08-24T13:58:33.019Z"
   },
   {
    "duration": 95,
    "start_time": "2024-08-24T13:58:33.263Z"
   },
   {
    "duration": 110,
    "start_time": "2024-08-24T13:58:33.359Z"
   },
   {
    "duration": 106,
    "start_time": "2024-08-24T13:58:33.471Z"
   },
   {
    "duration": 103,
    "start_time": "2024-08-24T13:58:33.579Z"
   },
   {
    "duration": 97,
    "start_time": "2024-08-24T13:58:33.684Z"
   },
   {
    "duration": 95,
    "start_time": "2024-08-24T13:58:33.782Z"
   },
   {
    "duration": 108,
    "start_time": "2024-08-24T13:58:33.879Z"
   },
   {
    "duration": 102,
    "start_time": "2024-08-24T13:58:33.989Z"
   },
   {
    "duration": 105,
    "start_time": "2024-08-24T13:58:34.097Z"
   },
   {
    "duration": 103,
    "start_time": "2024-08-24T13:58:34.203Z"
   },
   {
    "duration": 115,
    "start_time": "2024-08-24T13:58:34.308Z"
   },
   {
    "duration": 26,
    "start_time": "2024-08-24T13:58:34.425Z"
   },
   {
    "duration": 319,
    "start_time": "2024-08-24T13:58:34.453Z"
   },
   {
    "duration": 541,
    "start_time": "2024-08-24T13:58:34.774Z"
   },
   {
    "duration": 321,
    "start_time": "2024-08-24T13:58:35.316Z"
   },
   {
    "duration": 491,
    "start_time": "2024-08-24T13:58:35.639Z"
   },
   {
    "duration": 410,
    "start_time": "2024-08-24T13:58:36.132Z"
   },
   {
    "duration": 588,
    "start_time": "2024-08-24T13:58:36.543Z"
   },
   {
    "duration": 6,
    "start_time": "2024-08-24T13:58:37.133Z"
   },
   {
    "duration": 6,
    "start_time": "2024-08-24T13:58:37.141Z"
   },
   {
    "duration": 366,
    "start_time": "2024-08-24T13:58:37.148Z"
   },
   {
    "duration": 5,
    "start_time": "2024-08-24T13:58:37.516Z"
   },
   {
    "duration": 127,
    "start_time": "2024-08-24T13:58:37.600Z"
   },
   {
    "duration": 4,
    "start_time": "2024-08-24T13:58:37.728Z"
   },
   {
    "duration": 15,
    "start_time": "2024-08-24T13:58:37.734Z"
   },
   {
    "duration": 17,
    "start_time": "2024-08-24T13:58:37.753Z"
   },
   {
    "duration": 5,
    "start_time": "2024-08-24T13:58:37.772Z"
   },
   {
    "duration": 1700,
    "start_time": "2024-08-24T13:58:37.779Z"
   },
   {
    "duration": 1629,
    "start_time": "2024-08-24T13:58:39.480Z"
   },
   {
    "duration": 1613,
    "start_time": "2024-08-24T13:58:41.111Z"
   },
   {
    "duration": 6,
    "start_time": "2024-08-24T13:59:40.021Z"
   },
   {
    "duration": 1626,
    "start_time": "2024-08-24T13:59:40.590Z"
   },
   {
    "duration": 1637,
    "start_time": "2024-08-24T13:59:43.736Z"
   },
   {
    "duration": 1628,
    "start_time": "2024-08-24T13:59:45.374Z"
   },
   {
    "duration": 5,
    "start_time": "2024-08-24T14:00:21.604Z"
   },
   {
    "duration": 1595,
    "start_time": "2024-08-24T14:00:22.092Z"
   },
   {
    "duration": 1621,
    "start_time": "2024-08-24T14:00:23.689Z"
   },
   {
    "duration": 1634,
    "start_time": "2024-08-24T14:00:25.311Z"
   },
   {
    "duration": 4,
    "start_time": "2024-08-24T14:00:34.613Z"
   },
   {
    "duration": 1692,
    "start_time": "2024-08-24T14:00:34.835Z"
   },
   {
    "duration": 1691,
    "start_time": "2024-08-24T14:00:36.529Z"
   },
   {
    "duration": 1755,
    "start_time": "2024-08-24T14:00:38.222Z"
   },
   {
    "duration": 2777,
    "start_time": "2024-08-24T14:03:04.338Z"
   },
   {
    "duration": 2551,
    "start_time": "2024-08-24T14:03:07.118Z"
   },
   {
    "duration": 3004,
    "start_time": "2024-08-24T14:03:09.671Z"
   },
   {
    "duration": 1742,
    "start_time": "2024-08-24T14:03:12.678Z"
   },
   {
    "duration": 437,
    "start_time": "2024-08-24T14:03:14.422Z"
   },
   {
    "duration": 4,
    "start_time": "2024-08-24T14:03:14.861Z"
   },
   {
    "duration": 140,
    "start_time": "2024-08-24T14:03:14.866Z"
   },
   {
    "duration": 131,
    "start_time": "2024-08-24T14:03:15.007Z"
   },
   {
    "duration": 135,
    "start_time": "2024-08-24T14:03:15.140Z"
   },
   {
    "duration": 3,
    "start_time": "2024-08-24T14:03:15.278Z"
   },
   {
    "duration": 580,
    "start_time": "2024-08-24T14:03:15.282Z"
   },
   {
    "duration": 527,
    "start_time": "2024-08-24T14:03:15.864Z"
   },
   {
    "duration": 534,
    "start_time": "2024-08-24T14:03:16.398Z"
   },
   {
    "duration": 3,
    "start_time": "2024-08-24T14:03:16.934Z"
   },
   {
    "duration": 228,
    "start_time": "2024-08-24T14:03:16.938Z"
   },
   {
    "duration": 110,
    "start_time": "2024-08-24T14:03:17.168Z"
   },
   {
    "duration": 101,
    "start_time": "2024-08-24T14:03:17.280Z"
   },
   {
    "duration": 108,
    "start_time": "2024-08-24T14:03:17.383Z"
   },
   {
    "duration": 106,
    "start_time": "2024-08-24T14:03:17.492Z"
   },
   {
    "duration": 99,
    "start_time": "2024-08-24T14:03:17.599Z"
   },
   {
    "duration": 101,
    "start_time": "2024-08-24T14:03:17.699Z"
   },
   {
    "duration": 108,
    "start_time": "2024-08-24T14:03:17.802Z"
   },
   {
    "duration": 114,
    "start_time": "2024-08-24T14:03:17.912Z"
   },
   {
    "duration": 110,
    "start_time": "2024-08-24T14:03:18.028Z"
   },
   {
    "duration": 103,
    "start_time": "2024-08-24T14:03:18.140Z"
   },
   {
    "duration": 110,
    "start_time": "2024-08-24T14:03:18.245Z"
   },
   {
    "duration": 22,
    "start_time": "2024-08-24T14:03:18.357Z"
   },
   {
    "duration": 351,
    "start_time": "2024-08-24T14:03:18.382Z"
   },
   {
    "duration": 595,
    "start_time": "2024-08-24T14:03:18.735Z"
   },
   {
    "duration": 317,
    "start_time": "2024-08-24T14:03:19.332Z"
   },
   {
    "duration": 467,
    "start_time": "2024-08-24T14:03:19.650Z"
   },
   {
    "duration": 309,
    "start_time": "2024-08-24T14:03:20.119Z"
   },
   {
    "duration": 574,
    "start_time": "2024-08-24T14:03:20.430Z"
   },
   {
    "duration": 6,
    "start_time": "2024-08-24T14:03:21.006Z"
   },
   {
    "duration": 44,
    "start_time": "2024-08-24T14:03:21.014Z"
   },
   {
    "duration": 451,
    "start_time": "2024-08-24T14:03:21.060Z"
   },
   {
    "duration": 88,
    "start_time": "2024-08-24T14:03:21.514Z"
   },
   {
    "duration": 90,
    "start_time": "2024-08-24T14:03:21.608Z"
   },
   {
    "duration": 23,
    "start_time": "2024-08-24T14:03:21.700Z"
   },
   {
    "duration": 25,
    "start_time": "2024-08-24T14:03:21.725Z"
   },
   {
    "duration": 61,
    "start_time": "2024-08-24T14:03:21.752Z"
   },
   {
    "duration": 12,
    "start_time": "2024-08-24T14:03:21.814Z"
   },
   {
    "duration": 1686,
    "start_time": "2024-08-24T14:03:21.827Z"
   },
   {
    "duration": 1593,
    "start_time": "2024-08-24T14:03:23.515Z"
   },
   {
    "duration": 1588,
    "start_time": "2024-08-24T14:03:25.110Z"
   },
   {
    "duration": 6,
    "start_time": "2024-08-24T14:06:15.867Z"
   },
   {
    "duration": 1675,
    "start_time": "2024-08-24T14:06:16.587Z"
   },
   {
    "duration": 1716,
    "start_time": "2024-08-24T14:06:18.264Z"
   },
   {
    "duration": 1626,
    "start_time": "2024-08-24T14:06:19.982Z"
   },
   {
    "duration": 1686,
    "start_time": "2024-08-24T14:09:30.801Z"
   },
   {
    "duration": 1658,
    "start_time": "2024-08-24T14:09:32.489Z"
   },
   {
    "duration": 5,
    "start_time": "2024-08-24T14:09:35.801Z"
   },
   {
    "duration": 1666,
    "start_time": "2024-08-24T14:09:35.808Z"
   },
   {
    "duration": 1681,
    "start_time": "2024-08-24T14:09:37.476Z"
   },
   {
    "duration": 1691,
    "start_time": "2024-08-24T14:09:39.160Z"
   },
   {
    "duration": 6028,
    "start_time": "2024-08-24T14:13:58.735Z"
   },
   {
    "duration": 157,
    "start_time": "2024-08-24T14:16:03.949Z"
   },
   {
    "duration": 10,
    "start_time": "2024-08-24T14:16:04.180Z"
   },
   {
    "duration": 10,
    "start_time": "2024-08-24T14:16:04.364Z"
   },
   {
    "duration": 15,
    "start_time": "2024-08-24T14:16:04.573Z"
   },
   {
    "duration": 6063,
    "start_time": "2024-08-24T14:16:42.244Z"
   },
   {
    "duration": 11,
    "start_time": "2024-08-24T14:16:48.309Z"
   },
   {
    "duration": 0,
    "start_time": "2024-08-24T14:16:48.321Z"
   },
   {
    "duration": 0,
    "start_time": "2024-08-24T14:16:48.322Z"
   },
   {
    "duration": 6291,
    "start_time": "2024-08-24T14:18:53.179Z"
   },
   {
    "duration": 12,
    "start_time": "2024-08-24T14:29:02.468Z"
   },
   {
    "duration": 11,
    "start_time": "2024-08-24T14:29:10.194Z"
   },
   {
    "duration": 6,
    "start_time": "2024-08-24T14:29:18.201Z"
   },
   {
    "duration": 16,
    "start_time": "2024-08-24T14:29:19.539Z"
   },
   {
    "duration": 6,
    "start_time": "2024-08-24T14:29:51.178Z"
   },
   {
    "duration": 18,
    "start_time": "2024-08-24T14:29:51.356Z"
   },
   {
    "duration": 4,
    "start_time": "2024-08-24T14:34:01.627Z"
   },
   {
    "duration": 19,
    "start_time": "2024-08-24T14:34:02.411Z"
   },
   {
    "duration": 3,
    "start_time": "2024-08-24T14:34:17.659Z"
   },
   {
    "duration": 19,
    "start_time": "2024-08-24T14:34:17.782Z"
   },
   {
    "duration": 20,
    "start_time": "2024-08-24T14:34:50.454Z"
   },
   {
    "duration": 20,
    "start_time": "2024-08-24T14:35:56.279Z"
   },
   {
    "duration": 18,
    "start_time": "2024-08-24T14:36:21.993Z"
   },
   {
    "duration": 7,
    "start_time": "2024-08-24T14:36:43.008Z"
   },
   {
    "duration": 16,
    "start_time": "2024-08-24T14:36:43.592Z"
   },
   {
    "duration": 5,
    "start_time": "2024-08-24T14:38:07.937Z"
   },
   {
    "duration": 23,
    "start_time": "2024-08-24T14:38:08.536Z"
   },
   {
    "duration": 6,
    "start_time": "2024-08-24T14:38:42.288Z"
   },
   {
    "duration": 973,
    "start_time": "2024-08-24T14:38:42.706Z"
   },
   {
    "duration": 993,
    "start_time": "2024-08-24T14:38:54.860Z"
   },
   {
    "duration": 16,
    "start_time": "2024-08-24T14:38:56.609Z"
   },
   {
    "duration": 954,
    "start_time": "2024-08-24T14:39:22.154Z"
   },
   {
    "duration": 12,
    "start_time": "2024-08-24T14:39:44.461Z"
   },
   {
    "duration": 990,
    "start_time": "2024-08-24T14:39:50.016Z"
   },
   {
    "duration": 2636,
    "start_time": "2024-08-24T14:45:20.688Z"
   },
   {
    "duration": 2559,
    "start_time": "2024-08-24T14:45:23.326Z"
   },
   {
    "duration": 3193,
    "start_time": "2024-08-24T14:45:25.887Z"
   },
   {
    "duration": 1822,
    "start_time": "2024-08-24T14:45:29.082Z"
   },
   {
    "duration": 446,
    "start_time": "2024-08-24T14:45:30.906Z"
   },
   {
    "duration": 4,
    "start_time": "2024-08-24T14:45:31.354Z"
   },
   {
    "duration": 144,
    "start_time": "2024-08-24T14:45:31.359Z"
   },
   {
    "duration": 127,
    "start_time": "2024-08-24T14:45:31.505Z"
   },
   {
    "duration": 133,
    "start_time": "2024-08-24T14:45:31.634Z"
   },
   {
    "duration": 3,
    "start_time": "2024-08-24T14:45:31.770Z"
   },
   {
    "duration": 565,
    "start_time": "2024-08-24T14:45:31.774Z"
   },
   {
    "duration": 495,
    "start_time": "2024-08-24T14:45:32.341Z"
   },
   {
    "duration": 504,
    "start_time": "2024-08-24T14:45:32.837Z"
   },
   {
    "duration": 3,
    "start_time": "2024-08-24T14:45:33.343Z"
   },
   {
    "duration": 223,
    "start_time": "2024-08-24T14:45:33.347Z"
   },
   {
    "duration": 92,
    "start_time": "2024-08-24T14:45:33.572Z"
   },
   {
    "duration": 113,
    "start_time": "2024-08-24T14:45:33.666Z"
   },
   {
    "duration": 107,
    "start_time": "2024-08-24T14:45:33.781Z"
   },
   {
    "duration": 100,
    "start_time": "2024-08-24T14:45:33.889Z"
   },
   {
    "duration": 92,
    "start_time": "2024-08-24T14:45:33.991Z"
   },
   {
    "duration": 97,
    "start_time": "2024-08-24T14:45:34.085Z"
   },
   {
    "duration": 107,
    "start_time": "2024-08-24T14:45:34.183Z"
   },
   {
    "duration": 111,
    "start_time": "2024-08-24T14:45:34.297Z"
   },
   {
    "duration": 105,
    "start_time": "2024-08-24T14:45:34.410Z"
   },
   {
    "duration": 101,
    "start_time": "2024-08-24T14:45:34.516Z"
   },
   {
    "duration": 106,
    "start_time": "2024-08-24T14:45:34.619Z"
   },
   {
    "duration": 26,
    "start_time": "2024-08-24T14:45:34.727Z"
   },
   {
    "duration": 324,
    "start_time": "2024-08-24T14:45:34.757Z"
   },
   {
    "duration": 585,
    "start_time": "2024-08-24T14:45:35.083Z"
   },
   {
    "duration": 319,
    "start_time": "2024-08-24T14:45:35.669Z"
   },
   {
    "duration": 498,
    "start_time": "2024-08-24T14:45:35.989Z"
   },
   {
    "duration": 308,
    "start_time": "2024-08-24T14:45:36.489Z"
   },
   {
    "duration": 612,
    "start_time": "2024-08-24T14:45:36.799Z"
   },
   {
    "duration": 6,
    "start_time": "2024-08-24T14:45:37.413Z"
   },
   {
    "duration": 6,
    "start_time": "2024-08-24T14:45:37.420Z"
   },
   {
    "duration": 392,
    "start_time": "2024-08-24T14:45:37.428Z"
   },
   {
    "duration": 5,
    "start_time": "2024-08-24T14:45:37.823Z"
   },
   {
    "duration": 100,
    "start_time": "2024-08-24T14:45:37.899Z"
   },
   {
    "duration": 8,
    "start_time": "2024-08-24T14:45:38.001Z"
   },
   {
    "duration": 16,
    "start_time": "2024-08-24T14:45:38.010Z"
   },
   {
    "duration": 31,
    "start_time": "2024-08-24T14:45:38.028Z"
   },
   {
    "duration": 10,
    "start_time": "2024-08-24T14:45:38.061Z"
   },
   {
    "duration": 1016,
    "start_time": "2024-08-24T14:45:38.073Z"
   },
   {
    "duration": 973,
    "start_time": "2024-08-24T14:45:39.097Z"
   },
   {
    "duration": 942,
    "start_time": "2024-08-24T14:45:40.072Z"
   },
   {
    "duration": 6,
    "start_time": "2024-08-24T14:49:05.134Z"
   },
   {
    "duration": 955,
    "start_time": "2024-08-24T14:49:05.527Z"
   },
   {
    "duration": 945,
    "start_time": "2024-08-24T14:49:11.223Z"
   },
   {
    "duration": 959,
    "start_time": "2024-08-24T14:49:14.506Z"
   },
   {
    "duration": 6,
    "start_time": "2024-08-24T14:50:10.392Z"
   },
   {
    "duration": 148,
    "start_time": "2024-08-24T14:50:10.742Z"
   },
   {
    "duration": 18,
    "start_time": "2024-08-24T14:50:11.109Z"
   },
   {
    "duration": 19,
    "start_time": "2024-08-24T14:50:11.443Z"
   },
   {
    "duration": 5,
    "start_time": "2024-08-24T14:50:35.496Z"
   },
   {
    "duration": 953,
    "start_time": "2024-08-24T14:50:35.751Z"
   },
   {
    "duration": 974,
    "start_time": "2024-08-24T14:50:36.706Z"
   },
   {
    "duration": 980,
    "start_time": "2024-08-24T14:50:37.683Z"
   },
   {
    "duration": 2723,
    "start_time": "2024-08-24T14:56:33.621Z"
   },
   {
    "duration": 2777,
    "start_time": "2024-08-24T14:56:36.347Z"
   },
   {
    "duration": 3173,
    "start_time": "2024-08-24T14:56:39.127Z"
   },
   {
    "duration": 1759,
    "start_time": "2024-08-24T14:56:42.303Z"
   },
   {
    "duration": 459,
    "start_time": "2024-08-24T14:56:44.064Z"
   },
   {
    "duration": 3,
    "start_time": "2024-08-24T14:56:44.525Z"
   },
   {
    "duration": 147,
    "start_time": "2024-08-24T14:56:44.530Z"
   },
   {
    "duration": 132,
    "start_time": "2024-08-24T14:56:44.679Z"
   },
   {
    "duration": 120,
    "start_time": "2024-08-24T14:56:44.813Z"
   },
   {
    "duration": 3,
    "start_time": "2024-08-24T14:56:44.937Z"
   },
   {
    "duration": 548,
    "start_time": "2024-08-24T14:56:44.942Z"
   },
   {
    "duration": 565,
    "start_time": "2024-08-24T14:56:45.492Z"
   },
   {
    "duration": 530,
    "start_time": "2024-08-24T14:56:46.059Z"
   },
   {
    "duration": 8,
    "start_time": "2024-08-24T14:56:46.591Z"
   },
   {
    "duration": 220,
    "start_time": "2024-08-24T14:56:46.600Z"
   },
   {
    "duration": 92,
    "start_time": "2024-08-24T14:56:46.822Z"
   },
   {
    "duration": 107,
    "start_time": "2024-08-24T14:56:46.916Z"
   },
   {
    "duration": 115,
    "start_time": "2024-08-24T14:56:47.025Z"
   },
   {
    "duration": 110,
    "start_time": "2024-08-24T14:56:47.142Z"
   },
   {
    "duration": 102,
    "start_time": "2024-08-24T14:56:47.253Z"
   },
   {
    "duration": 103,
    "start_time": "2024-08-24T14:56:47.357Z"
   },
   {
    "duration": 116,
    "start_time": "2024-08-24T14:56:47.462Z"
   },
   {
    "duration": 121,
    "start_time": "2024-08-24T14:56:47.579Z"
   },
   {
    "duration": 118,
    "start_time": "2024-08-24T14:56:47.702Z"
   },
   {
    "duration": 146,
    "start_time": "2024-08-24T14:56:47.822Z"
   },
   {
    "duration": 149,
    "start_time": "2024-08-24T14:56:47.969Z"
   },
   {
    "duration": 25,
    "start_time": "2024-08-24T14:56:48.120Z"
   },
   {
    "duration": 350,
    "start_time": "2024-08-24T14:56:48.148Z"
   },
   {
    "duration": 582,
    "start_time": "2024-08-24T14:56:48.499Z"
   },
   {
    "duration": 330,
    "start_time": "2024-08-24T14:56:49.083Z"
   },
   {
    "duration": 477,
    "start_time": "2024-08-24T14:56:49.415Z"
   },
   {
    "duration": 312,
    "start_time": "2024-08-24T14:56:49.893Z"
   },
   {
    "duration": 595,
    "start_time": "2024-08-24T14:56:50.206Z"
   },
   {
    "duration": 2,
    "start_time": "2024-08-24T14:56:50.803Z"
   },
   {
    "duration": 6,
    "start_time": "2024-08-24T14:56:50.806Z"
   },
   {
    "duration": 408,
    "start_time": "2024-08-24T14:56:50.813Z"
   },
   {
    "duration": 76,
    "start_time": "2024-08-24T14:56:51.225Z"
   },
   {
    "duration": 101,
    "start_time": "2024-08-24T14:56:51.303Z"
   },
   {
    "duration": 22,
    "start_time": "2024-08-24T14:56:51.407Z"
   },
   {
    "duration": 10,
    "start_time": "2024-08-24T14:56:51.431Z"
   },
   {
    "duration": 21,
    "start_time": "2024-08-24T14:56:51.443Z"
   },
   {
    "duration": 5,
    "start_time": "2024-08-24T14:56:51.465Z"
   },
   {
    "duration": 960,
    "start_time": "2024-08-24T14:56:51.472Z"
   },
   {
    "duration": 995,
    "start_time": "2024-08-24T14:56:52.433Z"
   },
   {
    "duration": 968,
    "start_time": "2024-08-24T14:56:53.430Z"
   },
   {
    "duration": 2636,
    "start_time": "2024-08-24T14:59:45.926Z"
   },
   {
    "duration": 2571,
    "start_time": "2024-08-24T14:59:48.566Z"
   },
   {
    "duration": 3112,
    "start_time": "2024-08-24T14:59:51.139Z"
   },
   {
    "duration": 1793,
    "start_time": "2024-08-24T14:59:54.254Z"
   },
   {
    "duration": 443,
    "start_time": "2024-08-24T14:59:56.048Z"
   },
   {
    "duration": 6,
    "start_time": "2024-08-24T14:59:56.492Z"
   },
   {
    "duration": 141,
    "start_time": "2024-08-24T14:59:56.500Z"
   },
   {
    "duration": 132,
    "start_time": "2024-08-24T14:59:56.643Z"
   },
   {
    "duration": 139,
    "start_time": "2024-08-24T14:59:56.778Z"
   },
   {
    "duration": 3,
    "start_time": "2024-08-24T14:59:56.921Z"
   },
   {
    "duration": 537,
    "start_time": "2024-08-24T14:59:56.926Z"
   },
   {
    "duration": 508,
    "start_time": "2024-08-24T14:59:57.465Z"
   },
   {
    "duration": 547,
    "start_time": "2024-08-24T14:59:57.974Z"
   },
   {
    "duration": 4,
    "start_time": "2024-08-24T14:59:58.524Z"
   },
   {
    "duration": 233,
    "start_time": "2024-08-24T14:59:58.530Z"
   },
   {
    "duration": 99,
    "start_time": "2024-08-24T14:59:58.765Z"
   },
   {
    "duration": 114,
    "start_time": "2024-08-24T14:59:58.866Z"
   },
   {
    "duration": 108,
    "start_time": "2024-08-24T14:59:58.982Z"
   },
   {
    "duration": 118,
    "start_time": "2024-08-24T14:59:59.092Z"
   },
   {
    "duration": 105,
    "start_time": "2024-08-24T14:59:59.212Z"
   },
   {
    "duration": 116,
    "start_time": "2024-08-24T14:59:59.319Z"
   },
   {
    "duration": 116,
    "start_time": "2024-08-24T14:59:59.436Z"
   },
   {
    "duration": 113,
    "start_time": "2024-08-24T14:59:59.553Z"
   },
   {
    "duration": 117,
    "start_time": "2024-08-24T14:59:59.667Z"
   },
   {
    "duration": 102,
    "start_time": "2024-08-24T14:59:59.786Z"
   },
   {
    "duration": 120,
    "start_time": "2024-08-24T14:59:59.890Z"
   },
   {
    "duration": 25,
    "start_time": "2024-08-24T15:00:00.011Z"
   },
   {
    "duration": 338,
    "start_time": "2024-08-24T15:00:00.039Z"
   },
   {
    "duration": 574,
    "start_time": "2024-08-24T15:00:00.379Z"
   },
   {
    "duration": 326,
    "start_time": "2024-08-24T15:00:00.955Z"
   },
   {
    "duration": 479,
    "start_time": "2024-08-24T15:00:01.283Z"
   },
   {
    "duration": 320,
    "start_time": "2024-08-24T15:00:01.763Z"
   },
   {
    "duration": 613,
    "start_time": "2024-08-24T15:00:02.085Z"
   },
   {
    "duration": 7,
    "start_time": "2024-08-24T15:00:02.699Z"
   },
   {
    "duration": 63,
    "start_time": "2024-08-24T15:00:02.708Z"
   },
   {
    "duration": 440,
    "start_time": "2024-08-24T15:00:02.773Z"
   },
   {
    "duration": 82,
    "start_time": "2024-08-24T15:00:03.215Z"
   },
   {
    "duration": 129,
    "start_time": "2024-08-24T15:00:03.301Z"
   },
   {
    "duration": 5,
    "start_time": "2024-08-24T15:00:03.431Z"
   },
   {
    "duration": 7,
    "start_time": "2024-08-24T15:00:03.438Z"
   },
   {
    "duration": 22,
    "start_time": "2024-08-24T15:00:03.446Z"
   },
   {
    "duration": 6,
    "start_time": "2024-08-24T15:00:03.470Z"
   },
   {
    "duration": 980,
    "start_time": "2024-08-24T15:00:03.477Z"
   },
   {
    "duration": 963,
    "start_time": "2024-08-24T15:00:04.459Z"
   },
   {
    "duration": 978,
    "start_time": "2024-08-24T15:00:05.424Z"
   },
   {
    "duration": 3225,
    "start_time": "2024-08-24T19:46:21.264Z"
   },
   {
    "duration": 3686,
    "start_time": "2024-08-24T19:46:24.491Z"
   },
   {
    "duration": 7740,
    "start_time": "2024-08-24T19:46:28.179Z"
   },
   {
    "duration": 3641,
    "start_time": "2024-08-24T19:46:35.922Z"
   },
   {
    "duration": 1847,
    "start_time": "2024-08-24T19:46:39.565Z"
   },
   {
    "duration": 4,
    "start_time": "2024-08-24T19:46:41.414Z"
   },
   {
    "duration": 130,
    "start_time": "2024-08-24T19:46:41.420Z"
   },
   {
    "duration": 106,
    "start_time": "2024-08-24T19:46:41.552Z"
   },
   {
    "duration": 121,
    "start_time": "2024-08-24T19:46:41.660Z"
   },
   {
    "duration": 3,
    "start_time": "2024-08-24T19:46:41.783Z"
   },
   {
    "duration": 472,
    "start_time": "2024-08-24T19:46:41.788Z"
   },
   {
    "duration": 481,
    "start_time": "2024-08-24T19:46:42.261Z"
   },
   {
    "duration": 484,
    "start_time": "2024-08-24T19:46:42.744Z"
   },
   {
    "duration": 3,
    "start_time": "2024-08-24T19:46:43.230Z"
   },
   {
    "duration": 225,
    "start_time": "2024-08-24T19:46:43.236Z"
   },
   {
    "duration": 86,
    "start_time": "2024-08-24T19:46:43.463Z"
   },
   {
    "duration": 94,
    "start_time": "2024-08-24T19:46:43.550Z"
   },
   {
    "duration": 104,
    "start_time": "2024-08-24T19:46:43.645Z"
   },
   {
    "duration": 94,
    "start_time": "2024-08-24T19:46:43.750Z"
   },
   {
    "duration": 91,
    "start_time": "2024-08-24T19:46:43.845Z"
   },
   {
    "duration": 100,
    "start_time": "2024-08-24T19:46:43.938Z"
   },
   {
    "duration": 100,
    "start_time": "2024-08-24T19:46:44.040Z"
   },
   {
    "duration": 106,
    "start_time": "2024-08-24T19:46:44.142Z"
   },
   {
    "duration": 97,
    "start_time": "2024-08-24T19:46:44.249Z"
   },
   {
    "duration": 90,
    "start_time": "2024-08-24T19:46:44.347Z"
   },
   {
    "duration": 102,
    "start_time": "2024-08-24T19:46:44.439Z"
   },
   {
    "duration": 20,
    "start_time": "2024-08-24T19:46:44.543Z"
   },
   {
    "duration": 310,
    "start_time": "2024-08-24T19:46:44.566Z"
   },
   {
    "duration": 581,
    "start_time": "2024-08-24T19:46:44.878Z"
   },
   {
    "duration": 302,
    "start_time": "2024-08-24T19:46:45.461Z"
   },
   {
    "duration": 446,
    "start_time": "2024-08-24T19:46:45.764Z"
   },
   {
    "duration": 302,
    "start_time": "2024-08-24T19:46:46.212Z"
   },
   {
    "duration": 556,
    "start_time": "2024-08-24T19:46:46.515Z"
   },
   {
    "duration": 7,
    "start_time": "2024-08-24T19:46:47.072Z"
   },
   {
    "duration": 5,
    "start_time": "2024-08-24T19:46:47.080Z"
   },
   {
    "duration": 448,
    "start_time": "2024-08-24T19:46:47.086Z"
   },
   {
    "duration": 8,
    "start_time": "2024-08-24T19:46:47.536Z"
   },
   {
    "duration": 91,
    "start_time": "2024-08-24T19:46:47.546Z"
   },
   {
    "duration": 84,
    "start_time": "2024-08-24T19:46:47.642Z"
   },
   {
    "duration": 6,
    "start_time": "2024-08-24T19:46:47.727Z"
   },
   {
    "duration": 20,
    "start_time": "2024-08-24T19:46:47.735Z"
   },
   {
    "duration": 5,
    "start_time": "2024-08-24T19:46:47.756Z"
   },
   {
    "duration": 938,
    "start_time": "2024-08-24T19:46:47.763Z"
   },
   {
    "duration": 901,
    "start_time": "2024-08-24T19:46:48.703Z"
   },
   {
    "duration": 920,
    "start_time": "2024-08-24T19:46:49.607Z"
   },
   {
    "duration": 3475,
    "start_time": "2024-08-25T12:16:09.909Z"
   },
   {
    "duration": 3737,
    "start_time": "2024-08-25T12:16:13.386Z"
   },
   {
    "duration": 6430,
    "start_time": "2024-08-25T12:16:17.125Z"
   },
   {
    "duration": 1901,
    "start_time": "2024-08-25T12:16:23.557Z"
   },
   {
    "duration": 1771,
    "start_time": "2024-08-25T12:16:25.460Z"
   },
   {
    "duration": 4,
    "start_time": "2024-08-25T12:16:27.233Z"
   },
   {
    "duration": 125,
    "start_time": "2024-08-25T12:16:27.238Z"
   },
   {
    "duration": 119,
    "start_time": "2024-08-25T12:16:27.364Z"
   },
   {
    "duration": 144,
    "start_time": "2024-08-25T12:16:27.485Z"
   },
   {
    "duration": 3,
    "start_time": "2024-08-25T12:16:27.631Z"
   },
   {
    "duration": 538,
    "start_time": "2024-08-25T12:16:27.636Z"
   },
   {
    "duration": 531,
    "start_time": "2024-08-25T12:16:28.175Z"
   },
   {
    "duration": 610,
    "start_time": "2024-08-25T12:16:28.707Z"
   },
   {
    "duration": 3,
    "start_time": "2024-08-25T12:16:29.320Z"
   },
   {
    "duration": 131,
    "start_time": "2024-08-25T12:16:29.324Z"
   },
   {
    "duration": 92,
    "start_time": "2024-08-25T12:16:29.457Z"
   },
   {
    "duration": 102,
    "start_time": "2024-08-25T12:16:29.550Z"
   },
   {
    "duration": 114,
    "start_time": "2024-08-25T12:16:29.654Z"
   },
   {
    "duration": 97,
    "start_time": "2024-08-25T12:16:29.770Z"
   },
   {
    "duration": 96,
    "start_time": "2024-08-25T12:16:29.869Z"
   },
   {
    "duration": 103,
    "start_time": "2024-08-25T12:16:29.967Z"
   },
   {
    "duration": 110,
    "start_time": "2024-08-25T12:16:30.072Z"
   },
   {
    "duration": 110,
    "start_time": "2024-08-25T12:16:30.183Z"
   },
   {
    "duration": 109,
    "start_time": "2024-08-25T12:16:30.298Z"
   },
   {
    "duration": 103,
    "start_time": "2024-08-25T12:16:30.409Z"
   },
   {
    "duration": 117,
    "start_time": "2024-08-25T12:16:30.513Z"
   },
   {
    "duration": 140,
    "start_time": "2024-08-25T12:16:30.631Z"
   },
   {
    "duration": 314,
    "start_time": "2024-08-25T12:16:30.773Z"
   },
   {
    "duration": 650,
    "start_time": "2024-08-25T12:16:31.089Z"
   },
   {
    "duration": 322,
    "start_time": "2024-08-25T12:16:31.741Z"
   },
   {
    "duration": 464,
    "start_time": "2024-08-25T12:16:32.065Z"
   },
   {
    "duration": 307,
    "start_time": "2024-08-25T12:16:32.531Z"
   },
   {
    "duration": 459,
    "start_time": "2024-08-25T12:16:32.840Z"
   },
   {
    "duration": 2,
    "start_time": "2024-08-25T12:16:33.301Z"
   },
   {
    "duration": 55,
    "start_time": "2024-08-25T12:16:33.304Z"
   },
   {
    "duration": 455,
    "start_time": "2024-08-25T12:16:33.360Z"
   },
   {
    "duration": 84,
    "start_time": "2024-08-25T12:16:33.818Z"
   },
   {
    "duration": 95,
    "start_time": "2024-08-25T12:16:33.904Z"
   },
   {
    "duration": 7,
    "start_time": "2024-08-25T12:16:34.000Z"
   },
   {
    "duration": 6,
    "start_time": "2024-08-25T12:16:34.008Z"
   },
   {
    "duration": 22,
    "start_time": "2024-08-25T12:16:34.018Z"
   },
   {
    "duration": 6,
    "start_time": "2024-08-25T12:16:34.041Z"
   },
   {
    "duration": 974,
    "start_time": "2024-08-25T12:16:34.048Z"
   },
   {
    "duration": 935,
    "start_time": "2024-08-25T12:16:35.024Z"
   },
   {
    "duration": 916,
    "start_time": "2024-08-25T12:16:35.960Z"
   },
   {
    "duration": 2589,
    "start_time": "2024-08-25T12:28:23.678Z"
   },
   {
    "duration": 2679,
    "start_time": "2024-08-25T12:28:26.270Z"
   },
   {
    "duration": 3304,
    "start_time": "2024-08-25T12:28:28.950Z"
   },
   {
    "duration": 1723,
    "start_time": "2024-08-25T12:28:32.257Z"
   },
   {
    "duration": 429,
    "start_time": "2024-08-25T12:28:33.982Z"
   },
   {
    "duration": 4,
    "start_time": "2024-08-25T12:28:34.413Z"
   },
   {
    "duration": 143,
    "start_time": "2024-08-25T12:28:34.418Z"
   },
   {
    "duration": 137,
    "start_time": "2024-08-25T12:28:34.563Z"
   },
   {
    "duration": 121,
    "start_time": "2024-08-25T12:28:34.702Z"
   },
   {
    "duration": 2,
    "start_time": "2024-08-25T12:28:34.826Z"
   },
   {
    "duration": 515,
    "start_time": "2024-08-25T12:28:34.830Z"
   },
   {
    "duration": 515,
    "start_time": "2024-08-25T12:28:35.346Z"
   },
   {
    "duration": 537,
    "start_time": "2024-08-25T12:28:35.862Z"
   },
   {
    "duration": 3,
    "start_time": "2024-08-25T12:28:36.401Z"
   },
   {
    "duration": 230,
    "start_time": "2024-08-25T12:28:36.405Z"
   },
   {
    "duration": 99,
    "start_time": "2024-08-25T12:28:36.637Z"
   },
   {
    "duration": 104,
    "start_time": "2024-08-25T12:28:36.738Z"
   },
   {
    "duration": 113,
    "start_time": "2024-08-25T12:28:36.844Z"
   },
   {
    "duration": 107,
    "start_time": "2024-08-25T12:28:36.958Z"
   },
   {
    "duration": 91,
    "start_time": "2024-08-25T12:28:37.066Z"
   },
   {
    "duration": 103,
    "start_time": "2024-08-25T12:28:37.158Z"
   },
   {
    "duration": 108,
    "start_time": "2024-08-25T12:28:37.263Z"
   },
   {
    "duration": 119,
    "start_time": "2024-08-25T12:28:37.372Z"
   },
   {
    "duration": 122,
    "start_time": "2024-08-25T12:28:37.493Z"
   },
   {
    "duration": 105,
    "start_time": "2024-08-25T12:28:37.616Z"
   },
   {
    "duration": 117,
    "start_time": "2024-08-25T12:28:37.723Z"
   },
   {
    "duration": 25,
    "start_time": "2024-08-25T12:28:37.842Z"
   },
   {
    "duration": 328,
    "start_time": "2024-08-25T12:28:37.870Z"
   },
   {
    "duration": 622,
    "start_time": "2024-08-25T12:28:38.200Z"
   },
   {
    "duration": 329,
    "start_time": "2024-08-25T12:28:38.824Z"
   },
   {
    "duration": 486,
    "start_time": "2024-08-25T12:28:39.155Z"
   },
   {
    "duration": 314,
    "start_time": "2024-08-25T12:28:39.642Z"
   },
   {
    "duration": 589,
    "start_time": "2024-08-25T12:28:39.957Z"
   },
   {
    "duration": 3,
    "start_time": "2024-08-25T12:28:40.547Z"
   },
   {
    "duration": 25,
    "start_time": "2024-08-25T12:28:40.552Z"
   },
   {
    "duration": 434,
    "start_time": "2024-08-25T12:28:40.578Z"
   },
   {
    "duration": 85,
    "start_time": "2024-08-25T12:28:41.015Z"
   },
   {
    "duration": 4,
    "start_time": "2024-08-25T12:28:41.105Z"
   },
   {
    "duration": 7,
    "start_time": "2024-08-25T12:28:41.198Z"
   },
   {
    "duration": 3,
    "start_time": "2024-08-25T12:28:41.206Z"
   },
   {
    "duration": 20,
    "start_time": "2024-08-25T12:28:41.211Z"
   },
   {
    "duration": 5,
    "start_time": "2024-08-25T12:28:41.233Z"
   },
   {
    "duration": 1026,
    "start_time": "2024-08-25T12:28:41.240Z"
   },
   {
    "duration": 963,
    "start_time": "2024-08-25T12:28:42.268Z"
   },
   {
    "duration": 962,
    "start_time": "2024-08-25T12:28:43.233Z"
   }
  ],
  "kernelspec": {
   "display_name": "Python 3 (ipykernel)",
   "language": "python",
   "name": "python3"
  },
  "language_info": {
   "codemirror_mode": {
    "name": "ipython",
    "version": 3
   },
   "file_extension": ".py",
   "mimetype": "text/x-python",
   "name": "python",
   "nbconvert_exporter": "python",
   "pygments_lexer": "ipython3",
   "version": "3.9.5"
  },
  "toc": {
   "base_numbering": 1,
   "nav_menu": {},
   "number_sections": true,
   "sideBar": true,
   "skip_h1_title": true,
   "title_cell": "Table of Contents",
   "title_sidebar": "Contents",
   "toc_cell": false,
   "toc_position": {},
   "toc_section_display": true,
   "toc_window_display": false
  }
 },
 "nbformat": 4,
 "nbformat_minor": 2
}
